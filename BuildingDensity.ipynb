{
 "cells": [
  {
   "cell_type": "code",
   "execution_count": 1,
   "id": "795a8862-5f9b-40c9-ae04-db46377dc42f",
   "metadata": {},
   "outputs": [],
   "source": [
    "import geopandas as gpd\n",
    "import pandas as pd"
   ]
  },
  {
   "cell_type": "code",
   "execution_count": 2,
   "id": "42c52d37-4431-427e-a3d0-59ed94f50ff1",
   "metadata": {},
   "outputs": [
    {
     "data": {
      "text/html": [
       "<div>\n",
       "<style scoped>\n",
       "    .dataframe tbody tr th:only-of-type {\n",
       "        vertical-align: middle;\n",
       "    }\n",
       "\n",
       "    .dataframe tbody tr th {\n",
       "        vertical-align: top;\n",
       "    }\n",
       "\n",
       "    .dataframe thead th {\n",
       "        text-align: right;\n",
       "    }\n",
       "</style>\n",
       "<table border=\"1\" class=\"dataframe\">\n",
       "  <thead>\n",
       "    <tr style=\"text-align: right;\">\n",
       "      <th></th>\n",
       "      <th>area_in_meters</th>\n",
       "      <th>geometry</th>\n",
       "    </tr>\n",
       "  </thead>\n",
       "  <tbody>\n",
       "    <tr>\n",
       "      <th>390026</th>\n",
       "      <td>525.6170</td>\n",
       "      <td>POINT (90.72295 27.54464)</td>\n",
       "    </tr>\n",
       "    <tr>\n",
       "      <th>390027</th>\n",
       "      <td>263.1115</td>\n",
       "      <td>POINT (89.65415 27.41575)</td>\n",
       "    </tr>\n",
       "    <tr>\n",
       "      <th>390028</th>\n",
       "      <td>221.7251</td>\n",
       "      <td>POINT (89.56026 26.81444)</td>\n",
       "    </tr>\n",
       "    <tr>\n",
       "      <th>390029</th>\n",
       "      <td>696.8798</td>\n",
       "      <td>POINT (89.62874 27.50028)</td>\n",
       "    </tr>\n",
       "    <tr>\n",
       "      <th>390030</th>\n",
       "      <td>23.7747</td>\n",
       "      <td>POINT (88.78743 27.13526)</td>\n",
       "    </tr>\n",
       "  </tbody>\n",
       "</table>\n",
       "</div>"
      ],
      "text/plain": [
       "        area_in_meters                   geometry\n",
       "390026        525.6170  POINT (90.72295 27.54464)\n",
       "390027        263.1115  POINT (89.65415 27.41575)\n",
       "390028        221.7251  POINT (89.56026 26.81444)\n",
       "390029        696.8798  POINT (89.62874 27.50028)\n",
       "390030         23.7747  POINT (88.78743 27.13526)"
      ]
     },
     "execution_count": 2,
     "metadata": {},
     "output_type": "execute_result"
    }
   ],
   "source": [
    "buildings = gpd.read_file('buildings_BHUTAN.geojson')\n",
    "buildings.tail()"
   ]
  },
  {
   "cell_type": "code",
   "execution_count": 18,
   "id": "b0109b82-8214-4574-88e0-c26bae37f295",
   "metadata": {},
   "outputs": [
    {
     "data": {
      "text/html": [
       "<div>\n",
       "<style scoped>\n",
       "    .dataframe tbody tr th:only-of-type {\n",
       "        vertical-align: middle;\n",
       "    }\n",
       "\n",
       "    .dataframe tbody tr th {\n",
       "        vertical-align: top;\n",
       "    }\n",
       "\n",
       "    .dataframe thead th {\n",
       "        text-align: right;\n",
       "    }\n",
       "</style>\n",
       "<table border=\"1\" class=\"dataframe\">\n",
       "  <thead>\n",
       "    <tr style=\"text-align: right;\">\n",
       "      <th></th>\n",
       "      <th>Maille</th>\n",
       "      <th>Maille_Y</th>\n",
       "      <th>Maille_X</th>\n",
       "      <th>X</th>\n",
       "      <th>Y</th>\n",
       "      <th>X1</th>\n",
       "      <th>Y1</th>\n",
       "      <th>X2</th>\n",
       "      <th>Y2</th>\n",
       "      <th>area_cell</th>\n",
       "      <th>geometry</th>\n",
       "    </tr>\n",
       "  </thead>\n",
       "  <tbody>\n",
       "    <tr>\n",
       "      <th>0</th>\n",
       "      <td>1</td>\n",
       "      <td>1</td>\n",
       "      <td>1</td>\n",
       "      <td>89.6050</td>\n",
       "      <td>27.4050</td>\n",
       "      <td>89.6000</td>\n",
       "      <td>27.4000</td>\n",
       "      <td>89.6100</td>\n",
       "      <td>27.4100</td>\n",
       "      <td>1.0968</td>\n",
       "      <td>POLYGON ((89.60000 27.41000, 89.61000 27.41000...</td>\n",
       "    </tr>\n",
       "    <tr>\n",
       "      <th>1</th>\n",
       "      <td>2</td>\n",
       "      <td>1</td>\n",
       "      <td>2</td>\n",
       "      <td>89.6150</td>\n",
       "      <td>27.4050</td>\n",
       "      <td>89.6100</td>\n",
       "      <td>27.4000</td>\n",
       "      <td>89.6200</td>\n",
       "      <td>27.4100</td>\n",
       "      <td>1.0968</td>\n",
       "      <td>POLYGON ((89.61000 27.41000, 89.62000 27.41000...</td>\n",
       "    </tr>\n",
       "    <tr>\n",
       "      <th>2</th>\n",
       "      <td>3</td>\n",
       "      <td>1</td>\n",
       "      <td>3</td>\n",
       "      <td>89.6250</td>\n",
       "      <td>27.4050</td>\n",
       "      <td>89.6200</td>\n",
       "      <td>27.4000</td>\n",
       "      <td>89.6300</td>\n",
       "      <td>27.4100</td>\n",
       "      <td>1.0968</td>\n",
       "      <td>POLYGON ((89.62000 27.41000, 89.63000 27.41000...</td>\n",
       "    </tr>\n",
       "    <tr>\n",
       "      <th>3</th>\n",
       "      <td>4</td>\n",
       "      <td>1</td>\n",
       "      <td>4</td>\n",
       "      <td>89.6350</td>\n",
       "      <td>27.4050</td>\n",
       "      <td>89.6300</td>\n",
       "      <td>27.4000</td>\n",
       "      <td>89.6400</td>\n",
       "      <td>27.4100</td>\n",
       "      <td>1.0968</td>\n",
       "      <td>POLYGON ((89.63000 27.41000, 89.64000 27.41000...</td>\n",
       "    </tr>\n",
       "    <tr>\n",
       "      <th>4</th>\n",
       "      <td>5</td>\n",
       "      <td>1</td>\n",
       "      <td>5</td>\n",
       "      <td>89.6450</td>\n",
       "      <td>27.4050</td>\n",
       "      <td>89.6400</td>\n",
       "      <td>27.4000</td>\n",
       "      <td>89.6500</td>\n",
       "      <td>27.4100</td>\n",
       "      <td>1.0968</td>\n",
       "      <td>POLYGON ((89.64000 27.41000, 89.65000 27.41000...</td>\n",
       "    </tr>\n",
       "  </tbody>\n",
       "</table>\n",
       "</div>"
      ],
      "text/plain": [
       "   Maille  Maille_Y  Maille_X        X        Y       X1       Y1       X2  \\\n",
       "0       1         1         1  89.6050  27.4050  89.6000  27.4000  89.6100   \n",
       "1       2         1         2  89.6150  27.4050  89.6100  27.4000  89.6200   \n",
       "2       3         1         3  89.6250  27.4050  89.6200  27.4000  89.6300   \n",
       "3       4         1         4  89.6350  27.4050  89.6300  27.4000  89.6400   \n",
       "4       5         1         5  89.6450  27.4050  89.6400  27.4000  89.6500   \n",
       "\n",
       "        Y2 area_cell                                           geometry  \n",
       "0  27.4100    1.0968  POLYGON ((89.60000 27.41000, 89.61000 27.41000...  \n",
       "1  27.4100    1.0968  POLYGON ((89.61000 27.41000, 89.62000 27.41000...  \n",
       "2  27.4100    1.0968  POLYGON ((89.62000 27.41000, 89.63000 27.41000...  \n",
       "3  27.4100    1.0968  POLYGON ((89.63000 27.41000, 89.64000 27.41000...  \n",
       "4  27.4100    1.0968  POLYGON ((89.64000 27.41000, 89.65000 27.41000...  "
      ]
     },
     "execution_count": 18,
     "metadata": {},
     "output_type": "execute_result"
    }
   ],
   "source": [
    "grids = gpd.read_file('grids_thimphu\\grids_thimphu.shp')\n",
    "grids.head()"
   ]
  },
  {
   "cell_type": "code",
   "execution_count": 27,
   "id": "4c91a007-23e6-457d-b3bc-a9661a3eec22",
   "metadata": {},
   "outputs": [],
   "source": [
    "buildings_grids = gpd.sjoin(buildings, grids, predicate='within')"
   ]
  },
  {
   "cell_type": "code",
   "execution_count": 28,
   "id": "e3b8c9c7-8167-4e53-878f-bf91bd246a1e",
   "metadata": {},
   "outputs": [
    {
     "data": {
      "text/plain": [
       "(27295, 13)"
      ]
     },
     "execution_count": 28,
     "metadata": {},
     "output_type": "execute_result"
    }
   ],
   "source": [
    "buildings_grids.shape"
   ]
  },
  {
   "cell_type": "code",
   "execution_count": 21,
   "id": "4fffe3fd-22c6-477e-a9f4-a736d86c8143",
   "metadata": {},
   "outputs": [],
   "source": [
    "grouped = buildings_grids.groupby('Maille').agg(buildings_count = ('geometry','count'),\n",
    "                                 buildings_area = ('area_in_meters','sum'))"
   ]
  },
  {
   "cell_type": "code",
   "execution_count": 22,
   "id": "4b22f394-2c0a-4097-ab5c-590a4eac9465",
   "metadata": {},
   "outputs": [],
   "source": [
    "bd = grids.merge(grouped.reset_index(), on='Maille', how='left')[['Maille','buildings_count','buildings_area','geometry']]"
   ]
  },
  {
   "cell_type": "code",
   "execution_count": 23,
   "id": "e14e19de-2b60-4b22-8846-a2db324c1c4d",
   "metadata": {},
   "outputs": [],
   "source": [
    "bd.to_file('Thimphu_BuildingDensity.geojson')"
   ]
  },
  {
   "cell_type": "code",
   "execution_count": null,
   "id": "838ae4d6-43e2-4a12-aa67-0672091002f0",
   "metadata": {},
   "outputs": [],
   "source": []
  }
 ],
 "metadata": {
  "kernelspec": {
   "display_name": "Python 3 (ipykernel)",
   "language": "python",
   "name": "python3"
  },
  "language_info": {
   "codemirror_mode": {
    "name": "ipython",
    "version": 3
   },
   "file_extension": ".py",
   "mimetype": "text/x-python",
   "name": "python",
   "nbconvert_exporter": "python",
   "pygments_lexer": "ipython3",
   "version": "3.11.7"
  }
 },
 "nbformat": 4,
 "nbformat_minor": 5
}
