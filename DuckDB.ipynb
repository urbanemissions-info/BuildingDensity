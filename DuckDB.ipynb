{
 "cells": [
  {
   "cell_type": "code",
   "execution_count": 1,
   "id": "b463f5f3-51ba-435f-9be6-5e7af8a14bdd",
   "metadata": {},
   "outputs": [],
   "source": [
    "import duckdb"
   ]
  },
  {
   "cell_type": "code",
   "execution_count": 2,
   "id": "13b8d3e3-084a-4e42-8803-c62253805075",
   "metadata": {},
   "outputs": [
    {
     "data": {
      "application/vnd.jupyter.widget-view+json": {
       "model_id": "f2bc9be18b0a45869b288fe016c82b04",
       "version_major": 2,
       "version_minor": 0
      },
      "text/plain": [
       "FloatProgress(value=0.0, layout=Layout(width='auto'), style=ProgressStyle(bar_color='black'))"
      ]
     },
     "metadata": {},
     "output_type": "display_data"
    }
   ],
   "source": [
    "duckdb.sql('INSTALL httpfs')\n",
    "duckdb.sql('LOAD httpfs')\n",
    "duckdb.sql(\"FORCE INSTALL spatial FROM 'http://nightly-extensions.duckdb.org';\")\n",
    "duckdb.sql('LOAD spatial')"
   ]
  },
  {
   "cell_type": "code",
   "execution_count": 3,
   "id": "2ae3b5b6-9547-4598-8f79-5b20725d8560",
   "metadata": {},
   "outputs": [],
   "source": [
    "prefix = \"s3://us-west-2.opendata.source.coop/vida/google-microsoft-open-buildings/geoparquet\"\n",
    "partitions = \"by_country\"\n",
    "country_iso = \"IND\""
   ]
  },
  {
   "cell_type": "code",
   "execution_count": null,
   "id": "edad8f4b-4a96-4ec6-8f54-be7b1ce87cf3",
   "metadata": {
    "scrolled": true
   },
   "outputs": [
    {
     "name": "stderr",
     "output_type": "stream",
     "text": [
      "  0%|          | 0/53 [00:00<?, ?it/s]"
     ]
    },
    {
     "data": {
      "application/vnd.jupyter.widget-view+json": {
       "model_id": "16538a4a56704ab98a7ee112f120f73e",
       "version_major": 2,
       "version_minor": 0
      },
      "text/plain": [
       "FloatProgress(value=0.0, layout=Layout(width='auto'), style=ProgressStyle(bar_color='black'))"
      ]
     },
     "metadata": {},
     "output_type": "display_data"
    },
    {
     "name": "stderr",
     "output_type": "stream",
     "text": [
      "  2%|▏         | 1/53 [00:21<18:32, 21.40s/it]"
     ]
    },
    {
     "data": {
      "application/vnd.jupyter.widget-view+json": {
       "model_id": "bea2b83239284da8ad5c8bf423a0188a",
       "version_major": 2,
       "version_minor": 0
      },
      "text/plain": [
       "FloatProgress(value=0.0, layout=Layout(width='auto'), style=ProgressStyle(bar_color='black'))"
      ]
     },
     "metadata": {},
     "output_type": "display_data"
    }
   ],
   "source": [
    "import numpy as np\n",
    "from tqdm import tqdm\n",
    "for i in tqdm(np.arange(0,520127455,10000000)):\n",
    "    output_file = 'buildings_{}.geojson'.format(int(i/10000000))\n",
    "    duckdb.sql(f\"COPY (SELECT ST_Centroid(ST_GeomFromWKB(geometry)) AS centroid, area_in_meters FROM parquet_scan('{prefix}/{partitions}/country_iso={country_iso}/{country_iso}.parquet') LIMIT 10000 OFFSET {i}) TO '{output_file}' WITH  (FORMAT GDAL, DRIVER 'GeoJSON');\")"
   ]
  },
  {
   "cell_type": "code",
   "execution_count": 5,
   "id": "4d48467b-8540-458d-9c4d-0b07121ba1ff",
   "metadata": {},
   "outputs": [
    {
     "data": {
      "application/vnd.jupyter.widget-view+json": {
       "model_id": "3775572e32324b56b1cfd46a63f43c97",
       "version_major": 2,
       "version_minor": 0
      },
      "text/plain": [
       "FloatProgress(value=0.0, layout=Layout(width='auto'), style=ProgressStyle(bar_color='black'))"
      ]
     },
     "metadata": {},
     "output_type": "display_data"
    }
   ],
   "source": [
    "output_file = 'check.geojson'\n",
    "duckdb.sql(f\"COPY (SELECT ST_Centroid(ST_GeomFromWKB(geometry)) AS centroid, area_in_meters FROM parquet_scan('{prefix}/{partitions}/country_iso={country_iso}/{country_iso}.parquet') LIMIT 10) TO '{output_file}' WITH  (FORMAT GDAL, DRIVER 'GeoJSON');\")"
   ]
  },
  {
   "cell_type": "code",
   "execution_count": 4,
   "id": "cfe93efe-d1b5-4a27-bb09-204e614b2051",
   "metadata": {},
   "outputs": [
    {
     "data": {
      "application/vnd.jupyter.widget-view+json": {
       "model_id": "3d217b19853d4b8189870adfdd3e0563",
       "version_major": 2,
       "version_minor": 0
      },
      "text/plain": [
       "FloatProgress(value=0.0, layout=Layout(width='auto'), style=ProgressStyle(bar_color='black'))"
      ]
     },
     "metadata": {},
     "output_type": "display_data"
    },
    {
     "name": "stdout",
     "output_type": "stream",
     "text": [
      "┌──────────────────────────────────────────────┬────────────────────┐\n",
      "│    st_centroid(st_geomfromwkb(geometry))     │   area_in_meters   │\n",
      "│                   geometry                   │       double       │\n",
      "├──────────────────────────────────────────────┼────────────────────┤\n",
      "│ POINT (92.74675637483597 11.618450683198503) │ 11.606829295371362 │\n",
      "│ POINT (92.71531756178324 11.67963819573042)  │  650.6862792975276 │\n",
      "│ POINT (92.68356792593657 22.28837828583811)  │ 24.871156367986874 │\n",
      "│ POINT (92.68091186520215 11.604189169151153) │  24.40779338300694 │\n",
      "│ POINT (92.65175248418431 22.281230688937267) │  31.83381183719124 │\n",
      "│ POINT (92.72015348035085 11.65292237234046)  │  14.42021149383084 │\n",
      "│ POINT (90.00002386152127 25.302263225889302) │ 21.433733484317933 │\n",
      "│ POINT (92.63796764473217 22.131304296193633) │ 41.804944354344634 │\n",
      "│ POINT (92.66767818689348 22.183248964458564) │  20.12778096908015 │\n",
      "│ POINT (92.63553601859496 22.356731629773876) │ 22.081087010413913 │\n",
      "├──────────────────────────────────────────────┴────────────────────┤\n",
      "│ 10 rows                                                 2 columns │\n",
      "└───────────────────────────────────────────────────────────────────┘\n",
      "\n"
     ]
    }
   ],
   "source": [
    "\n",
    "\n",
    "# Use single file\n",
    "#duckdb.sql(f\"SELECT * FROM '{prefix}/{partitions}/country_iso={country_iso}/{country_iso}.parquet'\").show()\n",
    "duckdb.sql(f\"SELECT ST_Centroid(ST_GeomFromWKB(geometry)), area_in_meters FROM parquet_scan('{prefix}/{partitions}/country_iso={country_iso}/{country_iso}.parquet') LIMIT 10\").show()\n",
    "\n",
    "#duckdb.sql(f\"CREATE TABLE ind_buildings AS SELECT * FROM parquet_scan('{prefix}/{partitions}/country_iso={country_iso}/*.parquet')\")"
   ]
  },
  {
   "cell_type": "code",
   "execution_count": 6,
   "id": "7ddf5980-a911-4f8f-b02f-0de1c0650e3d",
   "metadata": {},
   "outputs": [
    {
     "name": "stdout",
     "output_type": "stream",
     "text": [
      "┌──────────────┐\n",
      "│ count_star() │\n",
      "│    int64     │\n",
      "├──────────────┤\n",
      "│    520127455 │\n",
      "└──────────────┘\n",
      "\n"
     ]
    }
   ],
   "source": [
    "duckdb.sql(f\"SELECT COUNT(*) FROM parquet_scan('{prefix}/{partitions}/country_iso={country_iso}/{country_iso}.parquet')\").show()"
   ]
  },
  {
   "cell_type": "code",
   "execution_count": 5,
   "id": "45fbf166-0ce0-45f7-81a7-52b5e0aeed43",
   "metadata": {},
   "outputs": [
    {
     "name": "stdout",
     "output_type": "stream",
     "text": [
      "┌────────────────────────────────────────────┬─────────────┬───────────┬────────────┬────────────────────┬─────────────┐\n",
      "│                  geometry                  │ boundary_id │ bf_source │ confidence │   area_in_meters   │ country_iso │\n",
      "│                    blob                    │    int64    │  varchar  │   double   │       double       │   varchar   │\n",
      "├────────────────────────────────────────────┼─────────────┼───────────┼────────────┼────────────────────┼─────────────┤\n",
      "│ \\x01\\x03\\x00\\x00\\x00\\x01\\x00\\x00\\x00\\x05…  │          81 │ microsoft │       NULL │ 16.642731770012922 │ LSO         │\n",
      "│ \\x01\\x03\\x00\\x00\\x00\\x01\\x00\\x00\\x00\\x05…  │          81 │ microsoft │       NULL │ 25.228388299419247 │ LSO         │\n",
      "│ \\x01\\x03\\x00\\x00\\x00\\x01\\x00\\x00\\x00\\x05…  │          81 │ microsoft │       NULL │ 23.074620278788217 │ LSO         │\n",
      "│ \\x01\\x03\\x00\\x00\\x00\\x01\\x00\\x00\\x00\\x05…  │          81 │ microsoft │       NULL │ 41.838311520336326 │ LSO         │\n",
      "│ \\x01\\x03\\x00\\x00\\x00\\x01\\x00\\x00\\x00\\x05…  │          81 │ microsoft │       NULL │ 22.764012294444846 │ LSO         │\n",
      "│ \\x01\\x03\\x00\\x00\\x00\\x01\\x00\\x00\\x00\\x05…  │          81 │ microsoft │       NULL │  32.94379157057748 │ LSO         │\n",
      "│ \\x01\\x03\\x00\\x00\\x00\\x01\\x00\\x00\\x00\\x05…  │          81 │ microsoft │       NULL │ 24.390759000767858 │ LSO         │\n",
      "│ \\x01\\x03\\x00\\x00\\x00\\x01\\x00\\x00\\x00\\x05…  │          81 │ microsoft │       NULL │  50.47833803095179 │ LSO         │\n",
      "│ \\x01\\x03\\x00\\x00\\x00\\x01\\x00\\x00\\x00\\x05…  │          81 │ microsoft │       NULL │ 13.251063299039926 │ LSO         │\n",
      "│ \\x01\\x03\\x00\\x00\\x00\\x01\\x00\\x00\\x00\\x05…  │          81 │ microsoft │       NULL │ 11.657331418787404 │ LSO         │\n",
      "├────────────────────────────────────────────┴─────────────┴───────────┴────────────┴────────────────────┴─────────────┤\n",
      "│ 10 rows                                                                                                    6 columns │\n",
      "└──────────────────────────────────────────────────────────────────────────────────────────────────────────────────────┘\n",
      "\n"
     ]
    }
   ],
   "source": [
    "duckdb.sql(f\"SELECT * FROM lso_buildings LIMIT 10\").show()"
   ]
  },
  {
   "cell_type": "code",
   "execution_count": 6,
   "id": "34e016cd-4df1-45ae-93ab-c37a6d055910",
   "metadata": {},
   "outputs": [
    {
     "name": "stdout",
     "output_type": "stream",
     "text": [
      "┌───────────┬─────────────────┐\n",
      "│ bf_source │ buildings_count │\n",
      "│  varchar  │      int64      │\n",
      "├───────────┼─────────────────┤\n",
      "│ google    │         1394189 │\n",
      "│ microsoft │          151722 │\n",
      "└───────────┴─────────────────┘\n",
      "\n"
     ]
    }
   ],
   "source": [
    "duckdb.sql(f\"SELECT bf_source, COUNT(*) AS buildings_count FROM lso_buildings GROUP BY bf_source;\").show()"
   ]
  },
  {
   "cell_type": "code",
   "execution_count": 9,
   "id": "e46f836b-d184-4fcf-9403-b7530fe16783",
   "metadata": {},
   "outputs": [
    {
     "name": "stdout",
     "output_type": "stream",
     "text": [
      "┌────────────────────────────────────────────────┐\n",
      "│                    Centroid                    │\n",
      "│                    geometry                    │\n",
      "├────────────────────────────────────────────────┤\n",
      "│ POINT (28.075053834908836 -30.238157536375958) │\n",
      "│ POINT (28.26500512745651 -30.20128607386714)   │\n",
      "│ POINT (28.138475844863034 -30.224001799244114) │\n",
      "│ POINT (27.80845044855237 -30.225979266383238)  │\n",
      "│ POINT (27.542520976589874 -29.85507790192917)  │\n",
      "│ POINT (27.715311320589844 -30.402095904104623) │\n",
      "│ POINT (27.641707514237215 -30.392490552626775) │\n",
      "│ POINT (27.458112422751537 -30.048585938939446) │\n",
      "│ POINT (27.73843831888474 -30.076922704111638)  │\n",
      "│ POINT (27.367864626259102 -29.92227828758444)  │\n",
      "├────────────────────────────────────────────────┤\n",
      "│                    10 rows                     │\n",
      "└────────────────────────────────────────────────┘\n",
      "\n"
     ]
    }
   ],
   "source": [
    "duckdb.sql(f\"SELECT ST_Centroid(ST_GeomFromWKB(geometry)) AS Centroid FROM lso_buildings LIMIT 10\").show()"
   ]
  },
  {
   "cell_type": "code",
   "execution_count": 10,
   "id": "dcede376-fd5c-4b0e-a34c-353d1bcbd839",
   "metadata": {},
   "outputs": [],
   "source": [
    "output_file = \"check.geojson\"\n",
    "duckdb.sql(f\"COPY (SELECT ST_Centroid(ST_GeomFromWKB(geometry)) AS Centroid FROM lso_buildings LIMIT 10) TO '{output_file}' WITH  (FORMAT GDAL, DRIVER 'GeoJSON');\")"
   ]
  },
  {
   "cell_type": "code",
   "execution_count": null,
   "id": "edab8bfa-f806-451c-9404-e44c29355d6d",
   "metadata": {},
   "outputs": [],
   "source": []
  }
 ],
 "metadata": {
  "kernelspec": {
   "display_name": "Python 3 (ipykernel)",
   "language": "python",
   "name": "python3"
  },
  "language_info": {
   "codemirror_mode": {
    "name": "ipython",
    "version": 3
   },
   "file_extension": ".py",
   "mimetype": "text/x-python",
   "name": "python",
   "nbconvert_exporter": "python",
   "pygments_lexer": "ipython3",
   "version": "3.11.7"
  }
 },
 "nbformat": 4,
 "nbformat_minor": 5
}
