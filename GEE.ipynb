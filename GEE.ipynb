{
 "cells": [
  {
   "cell_type": "code",
   "execution_count": 1,
   "id": "017de29b-ee43-4eec-98b4-1903f39fbcec",
   "metadata": {},
   "outputs": [],
   "source": [
    "import ee\n",
    "import geemap"
   ]
  },
  {
   "cell_type": "code",
   "execution_count": 2,
   "id": "a12a0009-1b33-4742-951d-7449277b6642",
   "metadata": {},
   "outputs": [
    {
     "data": {
      "text/html": [
       "\n",
       "            <style>\n",
       "                .geemap-dark {\n",
       "                    --jp-widgets-color: white;\n",
       "                    --jp-widgets-label-color: white;\n",
       "                    --jp-ui-font-color1: white;\n",
       "                    --jp-layout-color2: #454545;\n",
       "                    background-color: #383838;\n",
       "                }\n",
       "\n",
       "                .geemap-dark .jupyter-button {\n",
       "                    --jp-layout-color3: #383838;\n",
       "                }\n",
       "\n",
       "                .geemap-colab {\n",
       "                    background-color: var(--colab-primary-surface-color, white);\n",
       "                }\n",
       "\n",
       "                .geemap-colab .jupyter-button {\n",
       "                    --jp-layout-color3: var(--colab-primary-surface-color, white);\n",
       "                }\n",
       "            </style>\n",
       "            "
      ],
      "text/plain": [
       "<IPython.core.display.HTML object>"
      ]
     },
     "metadata": {},
     "output_type": "display_data"
    }
   ],
   "source": [
    "service_account = 'ueinfo@ueinfo.iam.gserviceaccount.com '\n",
    "credentials = ee.ServiceAccountCredentials(service_account, 'ueinfo-615e315d9158.json')\n",
    "\n",
    "ee.Initialize(credentials)"
   ]
  },
  {
   "cell_type": "code",
   "execution_count": 7,
   "id": "8b705cd0-1cc2-4ffc-8d0b-796255ee5834",
   "metadata": {},
   "outputs": [
    {
     "data": {
      "text/html": [
       "\n",
       "            <style>\n",
       "                .geemap-dark {\n",
       "                    --jp-widgets-color: white;\n",
       "                    --jp-widgets-label-color: white;\n",
       "                    --jp-ui-font-color1: white;\n",
       "                    --jp-layout-color2: #454545;\n",
       "                    background-color: #383838;\n",
       "                }\n",
       "\n",
       "                .geemap-dark .jupyter-button {\n",
       "                    --jp-layout-color3: #383838;\n",
       "                }\n",
       "\n",
       "                .geemap-colab {\n",
       "                    background-color: var(--colab-primary-surface-color, white);\n",
       "                }\n",
       "\n",
       "                .geemap-colab .jupyter-button {\n",
       "                    --jp-layout-color3: var(--colab-primary-surface-color, white);\n",
       "                }\n",
       "            </style>\n",
       "            "
      ],
      "text/plain": [
       "<IPython.core.display.HTML object>"
      ]
     },
     "metadata": {},
     "output_type": "display_data"
    }
   ],
   "source": [
    "india = ee.FeatureCollection(\"USDOS/LSIB_SIMPLE/2017\").filter(ee.Filter.eq('country_na', 'India'))\n",
    "geometry = india.geometry()"
   ]
  },
  {
   "cell_type": "code",
   "execution_count": 8,
   "id": "9cae0fc9-1217-45b1-8e64-96c59cdd1bb2",
   "metadata": {},
   "outputs": [
    {
     "data": {
      "text/html": [
       "\n",
       "            <style>\n",
       "                .geemap-dark {\n",
       "                    --jp-widgets-color: white;\n",
       "                    --jp-widgets-label-color: white;\n",
       "                    --jp-ui-font-color1: white;\n",
       "                    --jp-layout-color2: #454545;\n",
       "                    background-color: #383838;\n",
       "                }\n",
       "\n",
       "                .geemap-dark .jupyter-button {\n",
       "                    --jp-layout-color3: #383838;\n",
       "                }\n",
       "\n",
       "                .geemap-colab {\n",
       "                    background-color: var(--colab-primary-surface-color, white);\n",
       "                }\n",
       "\n",
       "                .geemap-colab .jupyter-button {\n",
       "                    --jp-layout-color3: var(--colab-primary-surface-color, white);\n",
       "                }\n",
       "            </style>\n",
       "            "
      ],
      "text/plain": [
       "<IPython.core.display.HTML object>"
      ]
     },
     "metadata": {},
     "output_type": "display_data"
    }
   ],
   "source": [
    "ind = ee.FeatureCollection(\"projects/sat-io/open-datasets/VIDA_COMBINED/IND\")"
   ]
  },
  {
   "cell_type": "code",
   "execution_count": 9,
   "id": "9c4dc9ea-50aa-43f1-a586-d9f002c7aa55",
   "metadata": {},
   "outputs": [
    {
     "data": {
      "text/html": [
       "\n",
       "            <style>\n",
       "                .geemap-dark {\n",
       "                    --jp-widgets-color: white;\n",
       "                    --jp-widgets-label-color: white;\n",
       "                    --jp-ui-font-color1: white;\n",
       "                    --jp-layout-color2: #454545;\n",
       "                    background-color: #383838;\n",
       "                }\n",
       "\n",
       "                .geemap-dark .jupyter-button {\n",
       "                    --jp-layout-color3: #383838;\n",
       "                }\n",
       "\n",
       "                .geemap-colab {\n",
       "                    background-color: var(--colab-primary-surface-color, white);\n",
       "                }\n",
       "\n",
       "                .geemap-colab .jupyter-button {\n",
       "                    --jp-layout-color3: var(--colab-primary-surface-color, white);\n",
       "                }\n",
       "            </style>\n",
       "            "
      ],
      "text/plain": [
       "<IPython.core.display.HTML object>"
      ]
     },
     "metadata": {},
     "output_type": "display_data"
    }
   ],
   "source": [
    "buildings = ind.filter(ee.Filter.bounds(geometry));\n",
    "# Add a dummy property to each feature\n",
    "buildings = buildings.map(lambda feature: feature.set('dummy', 1))"
   ]
  },
  {
   "cell_type": "code",
   "execution_count": 10,
   "id": "a7e5b7c1-e5e0-4e9f-b858-54c053768557",
   "metadata": {},
   "outputs": [
    {
     "data": {
      "text/html": [
       "\n",
       "            <style>\n",
       "                .geemap-dark {\n",
       "                    --jp-widgets-color: white;\n",
       "                    --jp-widgets-label-color: white;\n",
       "                    --jp-ui-font-color1: white;\n",
       "                    --jp-layout-color2: #454545;\n",
       "                    background-color: #383838;\n",
       "                }\n",
       "\n",
       "                .geemap-dark .jupyter-button {\n",
       "                    --jp-layout-color3: #383838;\n",
       "                }\n",
       "\n",
       "                .geemap-colab {\n",
       "                    background-color: var(--colab-primary-surface-color, white);\n",
       "                }\n",
       "\n",
       "                .geemap-colab .jupyter-button {\n",
       "                    --jp-layout-color3: var(--colab-primary-surface-color, white);\n",
       "                }\n",
       "            </style>\n",
       "            "
      ],
      "text/plain": [
       "<IPython.core.display.HTML object>"
      ]
     },
     "metadata": {},
     "output_type": "display_data"
    }
   ],
   "source": [
    "# // Creating a 1000m grid within the geometry\n",
    "gridSizeMeters = 10000\n",
    " \n",
    "# // Generate a rectangular grid\n",
    "#grid = geometry.coveringGrid('EPSG:3857', gridSizeMeters)\n",
    "\n",
    "grid = ee.Image().toInt().paint(india, 1).reproject(crs='EPSG:4326', scale=gridSizeMeters)"
   ]
  },
  {
   "cell_type": "code",
   "execution_count": 11,
   "id": "cdc0af82-a215-48a9-996c-efe4de477589",
   "metadata": {},
   "outputs": [
    {
     "data": {
      "text/html": [
       "\n",
       "            <style>\n",
       "                .geemap-dark {\n",
       "                    --jp-widgets-color: white;\n",
       "                    --jp-widgets-label-color: white;\n",
       "                    --jp-ui-font-color1: white;\n",
       "                    --jp-layout-color2: #454545;\n",
       "                    background-color: #383838;\n",
       "                }\n",
       "\n",
       "                .geemap-dark .jupyter-button {\n",
       "                    --jp-layout-color3: #383838;\n",
       "                }\n",
       "\n",
       "                .geemap-colab {\n",
       "                    background-color: var(--colab-primary-surface-color, white);\n",
       "                }\n",
       "\n",
       "                .geemap-colab .jupyter-button {\n",
       "                    --jp-layout-color3: var(--colab-primary-surface-color, white);\n",
       "                }\n",
       "            </style>\n",
       "            "
      ],
      "text/plain": [
       "<IPython.core.display.HTML object>"
      ]
     },
     "metadata": {},
     "output_type": "display_data"
    }
   ],
   "source": [
    "# Rasterize the building footprints to create a density map\n",
    "building_raster = buildings.reduceToImage(properties=[\"dummy\"], reducer=ee.Reducer.count()).unmask(0)\n",
    "\n",
    "# Clip the raster to the India boundary\n",
    "building_raster = building_raster.clip(india)\n",
    "\n",
    "# Convert the building raster to a double type\n",
    "building_raster = building_raster.toDouble()"
   ]
  },
  {
   "cell_type": "code",
   "execution_count": 12,
   "id": "09aa2563-4098-4e1f-92d3-8c2b38012a24",
   "metadata": {},
   "outputs": [
    {
     "data": {
      "text/html": [
       "\n",
       "            <style>\n",
       "                .geemap-dark {\n",
       "                    --jp-widgets-color: white;\n",
       "                    --jp-widgets-label-color: white;\n",
       "                    --jp-ui-font-color1: white;\n",
       "                    --jp-layout-color2: #454545;\n",
       "                    background-color: #383838;\n",
       "                }\n",
       "\n",
       "                .geemap-dark .jupyter-button {\n",
       "                    --jp-layout-color3: #383838;\n",
       "                }\n",
       "\n",
       "                .geemap-colab {\n",
       "                    background-color: var(--colab-primary-surface-color, white);\n",
       "                }\n",
       "\n",
       "                .geemap-colab .jupyter-button {\n",
       "                    --jp-layout-color3: var(--colab-primary-surface-color, white);\n",
       "                }\n",
       "            </style>\n",
       "            "
      ],
      "text/plain": [
       "<IPython.core.display.HTML object>"
      ]
     },
     "metadata": {},
     "output_type": "display_data"
    }
   ],
   "source": [
    "# Set the default projection for the building raster\n",
    "building_raster = building_raster.setDefaultProjection(crs='EPSG:4326', scale=gridSizeMeters)"
   ]
  },
  {
   "cell_type": "code",
   "execution_count": 13,
   "id": "785201d0-b1c1-4b22-8756-d65a38e8bb60",
   "metadata": {},
   "outputs": [
    {
     "data": {
      "text/html": [
       "\n",
       "            <style>\n",
       "                .geemap-dark {\n",
       "                    --jp-widgets-color: white;\n",
       "                    --jp-widgets-label-color: white;\n",
       "                    --jp-ui-font-color1: white;\n",
       "                    --jp-layout-color2: #454545;\n",
       "                    background-color: #383838;\n",
       "                }\n",
       "\n",
       "                .geemap-dark .jupyter-button {\n",
       "                    --jp-layout-color3: #383838;\n",
       "                }\n",
       "\n",
       "                .geemap-colab {\n",
       "                    background-color: var(--colab-primary-surface-color, white);\n",
       "                }\n",
       "\n",
       "                .geemap-colab .jupyter-button {\n",
       "                    --jp-layout-color3: var(--colab-primary-surface-color, white);\n",
       "                }\n",
       "            </style>\n",
       "            "
      ],
      "text/plain": [
       "<IPython.core.display.HTML object>"
      ]
     },
     "metadata": {},
     "output_type": "display_data"
    }
   ],
   "source": [
    "# Aggregate the building count to 1000m grid cells\n",
    "building_density = building_raster.reduceResolution(\n",
    "    reducer=ee.Reducer.sum(),\n",
    "    bestEffort=True).reproject(crs='EPSG:4326', scale=gridSizeMeters)"
   ]
  },
  {
   "cell_type": "code",
   "execution_count": 14,
   "id": "c92bb917-c9f1-40e2-82ab-b85582914189",
   "metadata": {},
   "outputs": [
    {
     "data": {
      "text/html": [
       "\n",
       "            <style>\n",
       "                .geemap-dark {\n",
       "                    --jp-widgets-color: white;\n",
       "                    --jp-widgets-label-color: white;\n",
       "                    --jp-ui-font-color1: white;\n",
       "                    --jp-layout-color2: #454545;\n",
       "                    background-color: #383838;\n",
       "                }\n",
       "\n",
       "                .geemap-dark .jupyter-button {\n",
       "                    --jp-layout-color3: #383838;\n",
       "                }\n",
       "\n",
       "                .geemap-colab {\n",
       "                    background-color: var(--colab-primary-surface-color, white);\n",
       "                }\n",
       "\n",
       "                .geemap-colab .jupyter-button {\n",
       "                    --jp-layout-color3: var(--colab-primary-surface-color, white);\n",
       "                }\n",
       "            </style>\n",
       "            "
      ],
      "text/plain": [
       "<IPython.core.display.HTML object>"
      ]
     },
     "metadata": {},
     "output_type": "display_data"
    },
    {
     "name": "stdout",
     "output_type": "stream",
     "text": [
      "Generating URL ...\n",
      "Downloading data from https://earthengine.googleapis.com/v1/projects/earthengine-legacy/thumbnails/7c60675a58bd924a3192454ce0ed1f78-cf808c9d00715775cb06c484f74a72c9:getPixels\n",
      "Please wait ...\n",
      "An error occurred while downloading.\n"
     ]
    }
   ],
   "source": [
    "geemap.ee_export_image(building_density,\n",
    "                       filename='IndiaBD10000.tif',\n",
    "                        scale=gridSizeMeters,\n",
    "                        region=geometry,\n",
    "                        file_per_band=True)"
   ]
  },
  {
   "cell_type": "code",
   "execution_count": 15,
   "id": "59713e4f-5933-4c9b-b80d-c6014fc878db",
   "metadata": {},
   "outputs": [
    {
     "data": {
      "text/html": [
       "\n",
       "            <style>\n",
       "                .geemap-dark {\n",
       "                    --jp-widgets-color: white;\n",
       "                    --jp-widgets-label-color: white;\n",
       "                    --jp-ui-font-color1: white;\n",
       "                    --jp-layout-color2: #454545;\n",
       "                    background-color: #383838;\n",
       "                }\n",
       "\n",
       "                .geemap-dark .jupyter-button {\n",
       "                    --jp-layout-color3: #383838;\n",
       "                }\n",
       "\n",
       "                .geemap-colab {\n",
       "                    background-color: var(--colab-primary-surface-color, white);\n",
       "                }\n",
       "\n",
       "                .geemap-colab .jupyter-button {\n",
       "                    --jp-layout-color3: var(--colab-primary-surface-color, white);\n",
       "                }\n",
       "            </style>\n",
       "            "
      ],
      "text/plain": [
       "<IPython.core.display.HTML object>"
      ]
     },
     "metadata": {},
     "output_type": "display_data"
    }
   ],
   "source": [
    "# Define the export task\n",
    "export_task = ee.batch.Export.image.toDrive(\n",
    "    image=building_density,\n",
    "    description='BuildingDensityIndia',\n",
    "    folder='EarthEngineExports',  # Google Drive folder name\n",
    "    fileNamePrefix='building_density_india',\n",
    "    scale=gridSizeMeters,\n",
    "    region=india.geometry().bounds(),\n",
    "    crs='EPSG:4326')\n",
    "\n",
    "# Start the export task\n",
    "export_task.start()"
   ]
  },
  {
   "cell_type": "code",
   "execution_count": 16,
   "id": "5281733a-e72b-49be-a1e9-41e6ed6f47d7",
   "metadata": {},
   "outputs": [
    {
     "data": {
      "text/html": [
       "\n",
       "            <style>\n",
       "                .geemap-dark {\n",
       "                    --jp-widgets-color: white;\n",
       "                    --jp-widgets-label-color: white;\n",
       "                    --jp-ui-font-color1: white;\n",
       "                    --jp-layout-color2: #454545;\n",
       "                    background-color: #383838;\n",
       "                }\n",
       "\n",
       "                .geemap-dark .jupyter-button {\n",
       "                    --jp-layout-color3: #383838;\n",
       "                }\n",
       "\n",
       "                .geemap-colab {\n",
       "                    background-color: var(--colab-primary-surface-color, white);\n",
       "                }\n",
       "\n",
       "                .geemap-colab .jupyter-button {\n",
       "                    --jp-layout-color3: var(--colab-primary-surface-color, white);\n",
       "                }\n",
       "            </style>\n",
       "            "
      ],
      "text/plain": [
       "<IPython.core.display.HTML object>"
      ]
     },
     "metadata": {},
     "output_type": "display_data"
    },
    {
     "name": "stdout",
     "output_type": "stream",
     "text": [
      "Polling for task (id: 6Q7NSPDF4EIDTPL7SGWLNJXH).\n",
      "Polling for task (id: 6Q7NSPDF4EIDTPL7SGWLNJXH).\n",
      "Polling for task (id: 6Q7NSPDF4EIDTPL7SGWLNJXH).\n",
      "Polling for task (id: 6Q7NSPDF4EIDTPL7SGWLNJXH).\n",
      "Polling for task (id: 6Q7NSPDF4EIDTPL7SGWLNJXH).\n",
      "Polling for task (id: 6Q7NSPDF4EIDTPL7SGWLNJXH).\n",
      "Polling for task (id: 6Q7NSPDF4EIDTPL7SGWLNJXH).\n",
      "Polling for task (id: 6Q7NSPDF4EIDTPL7SGWLNJXH).\n",
      "Polling for task (id: 6Q7NSPDF4EIDTPL7SGWLNJXH).\n",
      "Polling for task (id: 6Q7NSPDF4EIDTPL7SGWLNJXH).\n",
      "Polling for task (id: 6Q7NSPDF4EIDTPL7SGWLNJXH).\n",
      "Polling for task (id: 6Q7NSPDF4EIDTPL7SGWLNJXH).\n",
      "Polling for task (id: 6Q7NSPDF4EIDTPL7SGWLNJXH).\n",
      "Polling for task (id: 6Q7NSPDF4EIDTPL7SGWLNJXH).\n",
      "Polling for task (id: 6Q7NSPDF4EIDTPL7SGWLNJXH).\n",
      "Polling for task (id: 6Q7NSPDF4EIDTPL7SGWLNJXH).\n",
      "Polling for task (id: 6Q7NSPDF4EIDTPL7SGWLNJXH).\n",
      "Polling for task (id: 6Q7NSPDF4EIDTPL7SGWLNJXH).\n",
      "Polling for task (id: 6Q7NSPDF4EIDTPL7SGWLNJXH).\n",
      "Polling for task (id: 6Q7NSPDF4EIDTPL7SGWLNJXH).\n",
      "Polling for task (id: 6Q7NSPDF4EIDTPL7SGWLNJXH).\n",
      "Polling for task (id: 6Q7NSPDF4EIDTPL7SGWLNJXH).\n",
      "Polling for task (id: 6Q7NSPDF4EIDTPL7SGWLNJXH).\n",
      "Polling for task (id: 6Q7NSPDF4EIDTPL7SGWLNJXH).\n",
      "Polling for task (id: 6Q7NSPDF4EIDTPL7SGWLNJXH).\n",
      "Polling for task (id: 6Q7NSPDF4EIDTPL7SGWLNJXH).\n",
      "Polling for task (id: 6Q7NSPDF4EIDTPL7SGWLNJXH).\n",
      "Polling for task (id: 6Q7NSPDF4EIDTPL7SGWLNJXH).\n",
      "Polling for task (id: 6Q7NSPDF4EIDTPL7SGWLNJXH).\n",
      "Polling for task (id: 6Q7NSPDF4EIDTPL7SGWLNJXH).\n",
      "Polling for task (id: 6Q7NSPDF4EIDTPL7SGWLNJXH).\n",
      "Polling for task (id: 6Q7NSPDF4EIDTPL7SGWLNJXH).\n",
      "Polling for task (id: 6Q7NSPDF4EIDTPL7SGWLNJXH).\n",
      "Polling for task (id: 6Q7NSPDF4EIDTPL7SGWLNJXH).\n",
      "Polling for task (id: 6Q7NSPDF4EIDTPL7SGWLNJXH).\n",
      "Polling for task (id: 6Q7NSPDF4EIDTPL7SGWLNJXH).\n",
      "Polling for task (id: 6Q7NSPDF4EIDTPL7SGWLNJXH).\n",
      "Polling for task (id: 6Q7NSPDF4EIDTPL7SGWLNJXH).\n",
      "Polling for task (id: 6Q7NSPDF4EIDTPL7SGWLNJXH).\n",
      "Polling for task (id: 6Q7NSPDF4EIDTPL7SGWLNJXH).\n",
      "Polling for task (id: 6Q7NSPDF4EIDTPL7SGWLNJXH).\n",
      "Polling for task (id: 6Q7NSPDF4EIDTPL7SGWLNJXH).\n",
      "Polling for task (id: 6Q7NSPDF4EIDTPL7SGWLNJXH).\n",
      "Polling for task (id: 6Q7NSPDF4EIDTPL7SGWLNJXH).\n",
      "Polling for task (id: 6Q7NSPDF4EIDTPL7SGWLNJXH).\n",
      "Polling for task (id: 6Q7NSPDF4EIDTPL7SGWLNJXH).\n",
      "Polling for task (id: 6Q7NSPDF4EIDTPL7SGWLNJXH).\n",
      "Polling for task (id: 6Q7NSPDF4EIDTPL7SGWLNJXH).\n",
      "Polling for task (id: 6Q7NSPDF4EIDTPL7SGWLNJXH).\n",
      "Polling for task (id: 6Q7NSPDF4EIDTPL7SGWLNJXH).\n",
      "Polling for task (id: 6Q7NSPDF4EIDTPL7SGWLNJXH).\n",
      "Polling for task (id: 6Q7NSPDF4EIDTPL7SGWLNJXH).\n",
      "Polling for task (id: 6Q7NSPDF4EIDTPL7SGWLNJXH).\n",
      "Polling for task (id: 6Q7NSPDF4EIDTPL7SGWLNJXH).\n",
      "Polling for task (id: 6Q7NSPDF4EIDTPL7SGWLNJXH).\n",
      "Polling for task (id: 6Q7NSPDF4EIDTPL7SGWLNJXH).\n",
      "Polling for task (id: 6Q7NSPDF4EIDTPL7SGWLNJXH).\n",
      "Polling for task (id: 6Q7NSPDF4EIDTPL7SGWLNJXH).\n",
      "Polling for task (id: 6Q7NSPDF4EIDTPL7SGWLNJXH).\n",
      "Polling for task (id: 6Q7NSPDF4EIDTPL7SGWLNJXH).\n",
      "Polling for task (id: 6Q7NSPDF4EIDTPL7SGWLNJXH).\n",
      "Polling for task (id: 6Q7NSPDF4EIDTPL7SGWLNJXH).\n",
      "Polling for task (id: 6Q7NSPDF4EIDTPL7SGWLNJXH).\n",
      "Polling for task (id: 6Q7NSPDF4EIDTPL7SGWLNJXH).\n",
      "Polling for task (id: 6Q7NSPDF4EIDTPL7SGWLNJXH).\n",
      "Polling for task (id: 6Q7NSPDF4EIDTPL7SGWLNJXH).\n",
      "Polling for task (id: 6Q7NSPDF4EIDTPL7SGWLNJXH).\n",
      "Polling for task (id: 6Q7NSPDF4EIDTPL7SGWLNJXH).\n",
      "Polling for task (id: 6Q7NSPDF4EIDTPL7SGWLNJXH).\n",
      "Polling for task (id: 6Q7NSPDF4EIDTPL7SGWLNJXH).\n",
      "Polling for task (id: 6Q7NSPDF4EIDTPL7SGWLNJXH).\n",
      "Polling for task (id: 6Q7NSPDF4EIDTPL7SGWLNJXH).\n",
      "Polling for task (id: 6Q7NSPDF4EIDTPL7SGWLNJXH).\n",
      "Polling for task (id: 6Q7NSPDF4EIDTPL7SGWLNJXH).\n",
      "Polling for task (id: 6Q7NSPDF4EIDTPL7SGWLNJXH).\n",
      "Polling for task (id: 6Q7NSPDF4EIDTPL7SGWLNJXH).\n",
      "Polling for task (id: 6Q7NSPDF4EIDTPL7SGWLNJXH).\n",
      "Polling for task (id: 6Q7NSPDF4EIDTPL7SGWLNJXH).\n",
      "Polling for task (id: 6Q7NSPDF4EIDTPL7SGWLNJXH).\n",
      "Polling for task (id: 6Q7NSPDF4EIDTPL7SGWLNJXH).\n",
      "Polling for task (id: 6Q7NSPDF4EIDTPL7SGWLNJXH).\n",
      "Polling for task (id: 6Q7NSPDF4EIDTPL7SGWLNJXH).\n",
      "Polling for task (id: 6Q7NSPDF4EIDTPL7SGWLNJXH).\n",
      "Polling for task (id: 6Q7NSPDF4EIDTPL7SGWLNJXH).\n",
      "Polling for task (id: 6Q7NSPDF4EIDTPL7SGWLNJXH).\n",
      "Polling for task (id: 6Q7NSPDF4EIDTPL7SGWLNJXH).\n",
      "Polling for task (id: 6Q7NSPDF4EIDTPL7SGWLNJXH).\n",
      "Polling for task (id: 6Q7NSPDF4EIDTPL7SGWLNJXH).\n",
      "Polling for task (id: 6Q7NSPDF4EIDTPL7SGWLNJXH).\n",
      "Polling for task (id: 6Q7NSPDF4EIDTPL7SGWLNJXH).\n",
      "Polling for task (id: 6Q7NSPDF4EIDTPL7SGWLNJXH).\n",
      "Polling for task (id: 6Q7NSPDF4EIDTPL7SGWLNJXH).\n",
      "Polling for task (id: 6Q7NSPDF4EIDTPL7SGWLNJXH).\n",
      "Polling for task (id: 6Q7NSPDF4EIDTPL7SGWLNJXH).\n",
      "Polling for task (id: 6Q7NSPDF4EIDTPL7SGWLNJXH).\n",
      "Polling for task (id: 6Q7NSPDF4EIDTPL7SGWLNJXH).\n",
      "Polling for task (id: 6Q7NSPDF4EIDTPL7SGWLNJXH).\n",
      "Polling for task (id: 6Q7NSPDF4EIDTPL7SGWLNJXH).\n",
      "Polling for task (id: 6Q7NSPDF4EIDTPL7SGWLNJXH).\n",
      "Polling for task (id: 6Q7NSPDF4EIDTPL7SGWLNJXH).\n",
      "Polling for task (id: 6Q7NSPDF4EIDTPL7SGWLNJXH).\n",
      "Polling for task (id: 6Q7NSPDF4EIDTPL7SGWLNJXH).\n",
      "Polling for task (id: 6Q7NSPDF4EIDTPL7SGWLNJXH).\n",
      "Polling for task (id: 6Q7NSPDF4EIDTPL7SGWLNJXH).\n",
      "Polling for task (id: 6Q7NSPDF4EIDTPL7SGWLNJXH).\n",
      "Polling for task (id: 6Q7NSPDF4EIDTPL7SGWLNJXH).\n",
      "Polling for task (id: 6Q7NSPDF4EIDTPL7SGWLNJXH).\n",
      "Polling for task (id: 6Q7NSPDF4EIDTPL7SGWLNJXH).\n",
      "Polling for task (id: 6Q7NSPDF4EIDTPL7SGWLNJXH).\n",
      "Polling for task (id: 6Q7NSPDF4EIDTPL7SGWLNJXH).\n",
      "Polling for task (id: 6Q7NSPDF4EIDTPL7SGWLNJXH).\n",
      "Polling for task (id: 6Q7NSPDF4EIDTPL7SGWLNJXH).\n",
      "Polling for task (id: 6Q7NSPDF4EIDTPL7SGWLNJXH).\n",
      "Polling for task (id: 6Q7NSPDF4EIDTPL7SGWLNJXH).\n",
      "Polling for task (id: 6Q7NSPDF4EIDTPL7SGWLNJXH).\n",
      "Polling for task (id: 6Q7NSPDF4EIDTPL7SGWLNJXH).\n",
      "Polling for task (id: 6Q7NSPDF4EIDTPL7SGWLNJXH).\n",
      "Polling for task (id: 6Q7NSPDF4EIDTPL7SGWLNJXH).\n",
      "Polling for task (id: 6Q7NSPDF4EIDTPL7SGWLNJXH).\n",
      "Polling for task (id: 6Q7NSPDF4EIDTPL7SGWLNJXH).\n",
      "Polling for task (id: 6Q7NSPDF4EIDTPL7SGWLNJXH).\n",
      "Polling for task (id: 6Q7NSPDF4EIDTPL7SGWLNJXH).\n",
      "Polling for task (id: 6Q7NSPDF4EIDTPL7SGWLNJXH).\n",
      "Polling for task (id: 6Q7NSPDF4EIDTPL7SGWLNJXH).\n",
      "Polling for task (id: 6Q7NSPDF4EIDTPL7SGWLNJXH).\n",
      "Polling for task (id: 6Q7NSPDF4EIDTPL7SGWLNJXH).\n",
      "Polling for task (id: 6Q7NSPDF4EIDTPL7SGWLNJXH).\n",
      "Polling for task (id: 6Q7NSPDF4EIDTPL7SGWLNJXH).\n",
      "Polling for task (id: 6Q7NSPDF4EIDTPL7SGWLNJXH).\n",
      "Polling for task (id: 6Q7NSPDF4EIDTPL7SGWLNJXH).\n",
      "Polling for task (id: 6Q7NSPDF4EIDTPL7SGWLNJXH).\n",
      "Polling for task (id: 6Q7NSPDF4EIDTPL7SGWLNJXH).\n",
      "Polling for task (id: 6Q7NSPDF4EIDTPL7SGWLNJXH).\n",
      "Polling for task (id: 6Q7NSPDF4EIDTPL7SGWLNJXH).\n",
      "Polling for task (id: 6Q7NSPDF4EIDTPL7SGWLNJXH).\n",
      "Polling for task (id: 6Q7NSPDF4EIDTPL7SGWLNJXH).\n",
      "Polling for task (id: 6Q7NSPDF4EIDTPL7SGWLNJXH).\n",
      "Polling for task (id: 6Q7NSPDF4EIDTPL7SGWLNJXH).\n",
      "Polling for task (id: 6Q7NSPDF4EIDTPL7SGWLNJXH).\n",
      "Polling for task (id: 6Q7NSPDF4EIDTPL7SGWLNJXH).\n",
      "Polling for task (id: 6Q7NSPDF4EIDTPL7SGWLNJXH).\n",
      "Polling for task (id: 6Q7NSPDF4EIDTPL7SGWLNJXH).\n",
      "Polling for task (id: 6Q7NSPDF4EIDTPL7SGWLNJXH).\n",
      "Polling for task (id: 6Q7NSPDF4EIDTPL7SGWLNJXH).\n",
      "Polling for task (id: 6Q7NSPDF4EIDTPL7SGWLNJXH).\n",
      "Polling for task (id: 6Q7NSPDF4EIDTPL7SGWLNJXH).\n",
      "Polling for task (id: 6Q7NSPDF4EIDTPL7SGWLNJXH).\n",
      "Polling for task (id: 6Q7NSPDF4EIDTPL7SGWLNJXH).\n",
      "Polling for task (id: 6Q7NSPDF4EIDTPL7SGWLNJXH).\n",
      "Polling for task (id: 6Q7NSPDF4EIDTPL7SGWLNJXH).\n",
      "Polling for task (id: 6Q7NSPDF4EIDTPL7SGWLNJXH).\n",
      "Polling for task (id: 6Q7NSPDF4EIDTPL7SGWLNJXH).\n",
      "Polling for task (id: 6Q7NSPDF4EIDTPL7SGWLNJXH).\n",
      "Polling for task (id: 6Q7NSPDF4EIDTPL7SGWLNJXH).\n",
      "Polling for task (id: 6Q7NSPDF4EIDTPL7SGWLNJXH).\n",
      "Polling for task (id: 6Q7NSPDF4EIDTPL7SGWLNJXH).\n",
      "Polling for task (id: 6Q7NSPDF4EIDTPL7SGWLNJXH).\n",
      "Polling for task (id: 6Q7NSPDF4EIDTPL7SGWLNJXH).\n",
      "Polling for task (id: 6Q7NSPDF4EIDTPL7SGWLNJXH).\n",
      "Polling for task (id: 6Q7NSPDF4EIDTPL7SGWLNJXH).\n",
      "Polling for task (id: 6Q7NSPDF4EIDTPL7SGWLNJXH).\n",
      "Polling for task (id: 6Q7NSPDF4EIDTPL7SGWLNJXH).\n",
      "Polling for task (id: 6Q7NSPDF4EIDTPL7SGWLNJXH).\n",
      "Polling for task (id: 6Q7NSPDF4EIDTPL7SGWLNJXH).\n",
      "Polling for task (id: 6Q7NSPDF4EIDTPL7SGWLNJXH).\n",
      "Polling for task (id: 6Q7NSPDF4EIDTPL7SGWLNJXH).\n",
      "Polling for task (id: 6Q7NSPDF4EIDTPL7SGWLNJXH).\n",
      "Polling for task (id: 6Q7NSPDF4EIDTPL7SGWLNJXH).\n",
      "Polling for task (id: 6Q7NSPDF4EIDTPL7SGWLNJXH).\n",
      "Polling for task (id: 6Q7NSPDF4EIDTPL7SGWLNJXH).\n",
      "Polling for task (id: 6Q7NSPDF4EIDTPL7SGWLNJXH).\n",
      "Polling for task (id: 6Q7NSPDF4EIDTPL7SGWLNJXH).\n",
      "Polling for task (id: 6Q7NSPDF4EIDTPL7SGWLNJXH).\n",
      "Polling for task (id: 6Q7NSPDF4EIDTPL7SGWLNJXH).\n",
      "Polling for task (id: 6Q7NSPDF4EIDTPL7SGWLNJXH).\n",
      "Polling for task (id: 6Q7NSPDF4EIDTPL7SGWLNJXH).\n",
      "Polling for task (id: 6Q7NSPDF4EIDTPL7SGWLNJXH).\n",
      "Polling for task (id: 6Q7NSPDF4EIDTPL7SGWLNJXH).\n",
      "Polling for task (id: 6Q7NSPDF4EIDTPL7SGWLNJXH).\n",
      "Polling for task (id: 6Q7NSPDF4EIDTPL7SGWLNJXH).\n",
      "Polling for task (id: 6Q7NSPDF4EIDTPL7SGWLNJXH).\n",
      "Polling for task (id: 6Q7NSPDF4EIDTPL7SGWLNJXH).\n",
      "Polling for task (id: 6Q7NSPDF4EIDTPL7SGWLNJXH).\n",
      "Polling for task (id: 6Q7NSPDF4EIDTPL7SGWLNJXH).\n",
      "Polling for task (id: 6Q7NSPDF4EIDTPL7SGWLNJXH).\n",
      "Polling for task (id: 6Q7NSPDF4EIDTPL7SGWLNJXH).\n",
      "Polling for task (id: 6Q7NSPDF4EIDTPL7SGWLNJXH).\n",
      "Polling for task (id: 6Q7NSPDF4EIDTPL7SGWLNJXH).\n",
      "Polling for task (id: 6Q7NSPDF4EIDTPL7SGWLNJXH).\n",
      "Polling for task (id: 6Q7NSPDF4EIDTPL7SGWLNJXH).\n",
      "Polling for task (id: 6Q7NSPDF4EIDTPL7SGWLNJXH).\n",
      "Polling for task (id: 6Q7NSPDF4EIDTPL7SGWLNJXH).\n",
      "Polling for task (id: 6Q7NSPDF4EIDTPL7SGWLNJXH).\n",
      "Polling for task (id: 6Q7NSPDF4EIDTPL7SGWLNJXH).\n",
      "Polling for task (id: 6Q7NSPDF4EIDTPL7SGWLNJXH).\n",
      "Polling for task (id: 6Q7NSPDF4EIDTPL7SGWLNJXH).\n",
      "Polling for task (id: 6Q7NSPDF4EIDTPL7SGWLNJXH).\n",
      "Polling for task (id: 6Q7NSPDF4EIDTPL7SGWLNJXH).\n",
      "Polling for task (id: 6Q7NSPDF4EIDTPL7SGWLNJXH).\n",
      "Polling for task (id: 6Q7NSPDF4EIDTPL7SGWLNJXH).\n",
      "Polling for task (id: 6Q7NSPDF4EIDTPL7SGWLNJXH).\n",
      "Polling for task (id: 6Q7NSPDF4EIDTPL7SGWLNJXH).\n",
      "Polling for task (id: 6Q7NSPDF4EIDTPL7SGWLNJXH).\n",
      "Polling for task (id: 6Q7NSPDF4EIDTPL7SGWLNJXH).\n",
      "Polling for task (id: 6Q7NSPDF4EIDTPL7SGWLNJXH).\n",
      "Polling for task (id: 6Q7NSPDF4EIDTPL7SGWLNJXH).\n",
      "Polling for task (id: 6Q7NSPDF4EIDTPL7SGWLNJXH).\n",
      "Polling for task (id: 6Q7NSPDF4EIDTPL7SGWLNJXH).\n",
      "Polling for task (id: 6Q7NSPDF4EIDTPL7SGWLNJXH).\n",
      "Polling for task (id: 6Q7NSPDF4EIDTPL7SGWLNJXH).\n",
      "Polling for task (id: 6Q7NSPDF4EIDTPL7SGWLNJXH).\n",
      "Polling for task (id: 6Q7NSPDF4EIDTPL7SGWLNJXH).\n",
      "Polling for task (id: 6Q7NSPDF4EIDTPL7SGWLNJXH).\n",
      "Polling for task (id: 6Q7NSPDF4EIDTPL7SGWLNJXH).\n",
      "Polling for task (id: 6Q7NSPDF4EIDTPL7SGWLNJXH).\n",
      "Polling for task (id: 6Q7NSPDF4EIDTPL7SGWLNJXH).\n",
      "Polling for task (id: 6Q7NSPDF4EIDTPL7SGWLNJXH).\n",
      "Polling for task (id: 6Q7NSPDF4EIDTPL7SGWLNJXH).\n",
      "Polling for task (id: 6Q7NSPDF4EIDTPL7SGWLNJXH).\n",
      "Polling for task (id: 6Q7NSPDF4EIDTPL7SGWLNJXH).\n",
      "Polling for task (id: 6Q7NSPDF4EIDTPL7SGWLNJXH).\n",
      "Polling for task (id: 6Q7NSPDF4EIDTPL7SGWLNJXH).\n",
      "Polling for task (id: 6Q7NSPDF4EIDTPL7SGWLNJXH).\n",
      "Polling for task (id: 6Q7NSPDF4EIDTPL7SGWLNJXH).\n",
      "Polling for task (id: 6Q7NSPDF4EIDTPL7SGWLNJXH).\n",
      "Polling for task (id: 6Q7NSPDF4EIDTPL7SGWLNJXH).\n",
      "Polling for task (id: 6Q7NSPDF4EIDTPL7SGWLNJXH).\n",
      "Polling for task (id: 6Q7NSPDF4EIDTPL7SGWLNJXH).\n",
      "Polling for task (id: 6Q7NSPDF4EIDTPL7SGWLNJXH).\n",
      "Polling for task (id: 6Q7NSPDF4EIDTPL7SGWLNJXH).\n",
      "Polling for task (id: 6Q7NSPDF4EIDTPL7SGWLNJXH).\n",
      "Polling for task (id: 6Q7NSPDF4EIDTPL7SGWLNJXH).\n",
      "Polling for task (id: 6Q7NSPDF4EIDTPL7SGWLNJXH).\n",
      "Polling for task (id: 6Q7NSPDF4EIDTPL7SGWLNJXH).\n",
      "Polling for task (id: 6Q7NSPDF4EIDTPL7SGWLNJXH).\n",
      "Polling for task (id: 6Q7NSPDF4EIDTPL7SGWLNJXH).\n",
      "Polling for task (id: 6Q7NSPDF4EIDTPL7SGWLNJXH).\n",
      "Polling for task (id: 6Q7NSPDF4EIDTPL7SGWLNJXH).\n",
      "Polling for task (id: 6Q7NSPDF4EIDTPL7SGWLNJXH).\n",
      "Polling for task (id: 6Q7NSPDF4EIDTPL7SGWLNJXH).\n",
      "Polling for task (id: 6Q7NSPDF4EIDTPL7SGWLNJXH).\n",
      "Polling for task (id: 6Q7NSPDF4EIDTPL7SGWLNJXH).\n",
      "Polling for task (id: 6Q7NSPDF4EIDTPL7SGWLNJXH).\n",
      "Polling for task (id: 6Q7NSPDF4EIDTPL7SGWLNJXH).\n",
      "Polling for task (id: 6Q7NSPDF4EIDTPL7SGWLNJXH).\n",
      "Polling for task (id: 6Q7NSPDF4EIDTPL7SGWLNJXH).\n",
      "Polling for task (id: 6Q7NSPDF4EIDTPL7SGWLNJXH).\n",
      "Polling for task (id: 6Q7NSPDF4EIDTPL7SGWLNJXH).\n",
      "Polling for task (id: 6Q7NSPDF4EIDTPL7SGWLNJXH).\n",
      "Polling for task (id: 6Q7NSPDF4EIDTPL7SGWLNJXH).\n",
      "Polling for task (id: 6Q7NSPDF4EIDTPL7SGWLNJXH).\n",
      "Polling for task (id: 6Q7NSPDF4EIDTPL7SGWLNJXH).\n",
      "Polling for task (id: 6Q7NSPDF4EIDTPL7SGWLNJXH).\n",
      "Polling for task (id: 6Q7NSPDF4EIDTPL7SGWLNJXH).\n",
      "Polling for task (id: 6Q7NSPDF4EIDTPL7SGWLNJXH).\n",
      "Polling for task (id: 6Q7NSPDF4EIDTPL7SGWLNJXH).\n",
      "Polling for task (id: 6Q7NSPDF4EIDTPL7SGWLNJXH).\n",
      "Polling for task (id: 6Q7NSPDF4EIDTPL7SGWLNJXH).\n",
      "Polling for task (id: 6Q7NSPDF4EIDTPL7SGWLNJXH).\n",
      "Polling for task (id: 6Q7NSPDF4EIDTPL7SGWLNJXH).\n",
      "Polling for task (id: 6Q7NSPDF4EIDTPL7SGWLNJXH).\n",
      "Polling for task (id: 6Q7NSPDF4EIDTPL7SGWLNJXH).\n"
     ]
    },
    {
     "ename": "ConnectionError",
     "evalue": "HTTPSConnectionPool(host='earthengine.googleapis.com', port=443): Max retries exceeded with url: /v1/projects/earthengine-legacy/operations/6Q7NSPDF4EIDTPL7SGWLNJXH?alt=json (Caused by NameResolutionError(\"<urllib3.connection.HTTPSConnection object at 0x00000216FD8FB1D0>: Failed to resolve 'earthengine.googleapis.com' ([Errno 11001] getaddrinfo failed)\"))",
     "output_type": "error",
     "traceback": [
      "\u001b[1;31m---------------------------------------------------------------------------\u001b[0m",
      "\u001b[1;31mgaierror\u001b[0m                                  Traceback (most recent call last)",
      "File \u001b[1;32m~\\anaconda3\\Lib\\site-packages\\urllib3\\connection.py:203\u001b[0m, in \u001b[0;36mHTTPConnection._new_conn\u001b[1;34m(self)\u001b[0m\n\u001b[0;32m    202\u001b[0m \u001b[38;5;28;01mtry\u001b[39;00m:\n\u001b[1;32m--> 203\u001b[0m     sock \u001b[38;5;241m=\u001b[39m connection\u001b[38;5;241m.\u001b[39mcreate_connection(\n\u001b[0;32m    204\u001b[0m         (\u001b[38;5;28mself\u001b[39m\u001b[38;5;241m.\u001b[39m_dns_host, \u001b[38;5;28mself\u001b[39m\u001b[38;5;241m.\u001b[39mport),\n\u001b[0;32m    205\u001b[0m         \u001b[38;5;28mself\u001b[39m\u001b[38;5;241m.\u001b[39mtimeout,\n\u001b[0;32m    206\u001b[0m         source_address\u001b[38;5;241m=\u001b[39m\u001b[38;5;28mself\u001b[39m\u001b[38;5;241m.\u001b[39msource_address,\n\u001b[0;32m    207\u001b[0m         socket_options\u001b[38;5;241m=\u001b[39m\u001b[38;5;28mself\u001b[39m\u001b[38;5;241m.\u001b[39msocket_options,\n\u001b[0;32m    208\u001b[0m     )\n\u001b[0;32m    209\u001b[0m \u001b[38;5;28;01mexcept\u001b[39;00m socket\u001b[38;5;241m.\u001b[39mgaierror \u001b[38;5;28;01mas\u001b[39;00m e:\n",
      "File \u001b[1;32m~\\anaconda3\\Lib\\site-packages\\urllib3\\util\\connection.py:60\u001b[0m, in \u001b[0;36mcreate_connection\u001b[1;34m(address, timeout, source_address, socket_options)\u001b[0m\n\u001b[0;32m     58\u001b[0m     \u001b[38;5;28;01mraise\u001b[39;00m LocationParseError(\u001b[38;5;124mf\u001b[39m\u001b[38;5;124m\"\u001b[39m\u001b[38;5;124m'\u001b[39m\u001b[38;5;132;01m{\u001b[39;00mhost\u001b[38;5;132;01m}\u001b[39;00m\u001b[38;5;124m'\u001b[39m\u001b[38;5;124m, label empty or too long\u001b[39m\u001b[38;5;124m\"\u001b[39m) \u001b[38;5;28;01mfrom\u001b[39;00m \u001b[38;5;28;01mNone\u001b[39;00m\n\u001b[1;32m---> 60\u001b[0m \u001b[38;5;28;01mfor\u001b[39;00m res \u001b[38;5;129;01min\u001b[39;00m socket\u001b[38;5;241m.\u001b[39mgetaddrinfo(host, port, family, socket\u001b[38;5;241m.\u001b[39mSOCK_STREAM):\n\u001b[0;32m     61\u001b[0m     af, socktype, proto, canonname, sa \u001b[38;5;241m=\u001b[39m res\n",
      "File \u001b[1;32m~\\anaconda3\\Lib\\socket.py:962\u001b[0m, in \u001b[0;36mgetaddrinfo\u001b[1;34m(host, port, family, type, proto, flags)\u001b[0m\n\u001b[0;32m    961\u001b[0m addrlist \u001b[38;5;241m=\u001b[39m []\n\u001b[1;32m--> 962\u001b[0m \u001b[38;5;28;01mfor\u001b[39;00m res \u001b[38;5;129;01min\u001b[39;00m _socket\u001b[38;5;241m.\u001b[39mgetaddrinfo(host, port, family, \u001b[38;5;28mtype\u001b[39m, proto, flags):\n\u001b[0;32m    963\u001b[0m     af, socktype, proto, canonname, sa \u001b[38;5;241m=\u001b[39m res\n",
      "\u001b[1;31mgaierror\u001b[0m: [Errno 11001] getaddrinfo failed",
      "\nThe above exception was the direct cause of the following exception:\n",
      "\u001b[1;31mNameResolutionError\u001b[0m                       Traceback (most recent call last)",
      "File \u001b[1;32m~\\anaconda3\\Lib\\site-packages\\urllib3\\connectionpool.py:791\u001b[0m, in \u001b[0;36mHTTPConnectionPool.urlopen\u001b[1;34m(self, method, url, body, headers, retries, redirect, assert_same_host, timeout, pool_timeout, release_conn, chunked, body_pos, preload_content, decode_content, **response_kw)\u001b[0m\n\u001b[0;32m    790\u001b[0m \u001b[38;5;66;03m# Make the request on the HTTPConnection object\u001b[39;00m\n\u001b[1;32m--> 791\u001b[0m response \u001b[38;5;241m=\u001b[39m \u001b[38;5;28mself\u001b[39m\u001b[38;5;241m.\u001b[39m_make_request(\n\u001b[0;32m    792\u001b[0m     conn,\n\u001b[0;32m    793\u001b[0m     method,\n\u001b[0;32m    794\u001b[0m     url,\n\u001b[0;32m    795\u001b[0m     timeout\u001b[38;5;241m=\u001b[39mtimeout_obj,\n\u001b[0;32m    796\u001b[0m     body\u001b[38;5;241m=\u001b[39mbody,\n\u001b[0;32m    797\u001b[0m     headers\u001b[38;5;241m=\u001b[39mheaders,\n\u001b[0;32m    798\u001b[0m     chunked\u001b[38;5;241m=\u001b[39mchunked,\n\u001b[0;32m    799\u001b[0m     retries\u001b[38;5;241m=\u001b[39mretries,\n\u001b[0;32m    800\u001b[0m     response_conn\u001b[38;5;241m=\u001b[39mresponse_conn,\n\u001b[0;32m    801\u001b[0m     preload_content\u001b[38;5;241m=\u001b[39mpreload_content,\n\u001b[0;32m    802\u001b[0m     decode_content\u001b[38;5;241m=\u001b[39mdecode_content,\n\u001b[0;32m    803\u001b[0m     \u001b[38;5;241m*\u001b[39m\u001b[38;5;241m*\u001b[39mresponse_kw,\n\u001b[0;32m    804\u001b[0m )\n\u001b[0;32m    806\u001b[0m \u001b[38;5;66;03m# Everything went great!\u001b[39;00m\n",
      "File \u001b[1;32m~\\anaconda3\\Lib\\site-packages\\urllib3\\connectionpool.py:492\u001b[0m, in \u001b[0;36mHTTPConnectionPool._make_request\u001b[1;34m(self, conn, method, url, body, headers, retries, timeout, chunked, response_conn, preload_content, decode_content, enforce_content_length)\u001b[0m\n\u001b[0;32m    491\u001b[0m         new_e \u001b[38;5;241m=\u001b[39m _wrap_proxy_error(new_e, conn\u001b[38;5;241m.\u001b[39mproxy\u001b[38;5;241m.\u001b[39mscheme)\n\u001b[1;32m--> 492\u001b[0m     \u001b[38;5;28;01mraise\u001b[39;00m new_e\n\u001b[0;32m    494\u001b[0m \u001b[38;5;66;03m# conn.request() calls http.client.*.request, not the method in\u001b[39;00m\n\u001b[0;32m    495\u001b[0m \u001b[38;5;66;03m# urllib3.request. It also calls makefile (recv) on the socket.\u001b[39;00m\n",
      "File \u001b[1;32m~\\anaconda3\\Lib\\site-packages\\urllib3\\connectionpool.py:468\u001b[0m, in \u001b[0;36mHTTPConnectionPool._make_request\u001b[1;34m(self, conn, method, url, body, headers, retries, timeout, chunked, response_conn, preload_content, decode_content, enforce_content_length)\u001b[0m\n\u001b[0;32m    467\u001b[0m \u001b[38;5;28;01mtry\u001b[39;00m:\n\u001b[1;32m--> 468\u001b[0m     \u001b[38;5;28mself\u001b[39m\u001b[38;5;241m.\u001b[39m_validate_conn(conn)\n\u001b[0;32m    469\u001b[0m \u001b[38;5;28;01mexcept\u001b[39;00m (SocketTimeout, BaseSSLError) \u001b[38;5;28;01mas\u001b[39;00m e:\n",
      "File \u001b[1;32m~\\anaconda3\\Lib\\site-packages\\urllib3\\connectionpool.py:1097\u001b[0m, in \u001b[0;36mHTTPSConnectionPool._validate_conn\u001b[1;34m(self, conn)\u001b[0m\n\u001b[0;32m   1096\u001b[0m \u001b[38;5;28;01mif\u001b[39;00m conn\u001b[38;5;241m.\u001b[39mis_closed:\n\u001b[1;32m-> 1097\u001b[0m     conn\u001b[38;5;241m.\u001b[39mconnect()\n\u001b[0;32m   1099\u001b[0m \u001b[38;5;28;01mif\u001b[39;00m \u001b[38;5;129;01mnot\u001b[39;00m conn\u001b[38;5;241m.\u001b[39mis_verified:\n",
      "File \u001b[1;32m~\\anaconda3\\Lib\\site-packages\\urllib3\\connection.py:611\u001b[0m, in \u001b[0;36mHTTPSConnection.connect\u001b[1;34m(self)\u001b[0m\n\u001b[0;32m    610\u001b[0m sock: socket\u001b[38;5;241m.\u001b[39msocket \u001b[38;5;241m|\u001b[39m ssl\u001b[38;5;241m.\u001b[39mSSLSocket\n\u001b[1;32m--> 611\u001b[0m \u001b[38;5;28mself\u001b[39m\u001b[38;5;241m.\u001b[39msock \u001b[38;5;241m=\u001b[39m sock \u001b[38;5;241m=\u001b[39m \u001b[38;5;28mself\u001b[39m\u001b[38;5;241m.\u001b[39m_new_conn()\n\u001b[0;32m    612\u001b[0m server_hostname: \u001b[38;5;28mstr\u001b[39m \u001b[38;5;241m=\u001b[39m \u001b[38;5;28mself\u001b[39m\u001b[38;5;241m.\u001b[39mhost\n",
      "File \u001b[1;32m~\\anaconda3\\Lib\\site-packages\\urllib3\\connection.py:210\u001b[0m, in \u001b[0;36mHTTPConnection._new_conn\u001b[1;34m(self)\u001b[0m\n\u001b[0;32m    209\u001b[0m \u001b[38;5;28;01mexcept\u001b[39;00m socket\u001b[38;5;241m.\u001b[39mgaierror \u001b[38;5;28;01mas\u001b[39;00m e:\n\u001b[1;32m--> 210\u001b[0m     \u001b[38;5;28;01mraise\u001b[39;00m NameResolutionError(\u001b[38;5;28mself\u001b[39m\u001b[38;5;241m.\u001b[39mhost, \u001b[38;5;28mself\u001b[39m, e) \u001b[38;5;28;01mfrom\u001b[39;00m \u001b[38;5;21;01me\u001b[39;00m\n\u001b[0;32m    211\u001b[0m \u001b[38;5;28;01mexcept\u001b[39;00m SocketTimeout \u001b[38;5;28;01mas\u001b[39;00m e:\n",
      "\u001b[1;31mNameResolutionError\u001b[0m: <urllib3.connection.HTTPSConnection object at 0x00000216FD8FB1D0>: Failed to resolve 'earthengine.googleapis.com' ([Errno 11001] getaddrinfo failed)",
      "\nThe above exception was the direct cause of the following exception:\n",
      "\u001b[1;31mMaxRetryError\u001b[0m                             Traceback (most recent call last)",
      "File \u001b[1;32m~\\anaconda3\\Lib\\site-packages\\requests\\adapters.py:486\u001b[0m, in \u001b[0;36mHTTPAdapter.send\u001b[1;34m(self, request, stream, timeout, verify, cert, proxies)\u001b[0m\n\u001b[0;32m    485\u001b[0m \u001b[38;5;28;01mtry\u001b[39;00m:\n\u001b[1;32m--> 486\u001b[0m     resp \u001b[38;5;241m=\u001b[39m conn\u001b[38;5;241m.\u001b[39murlopen(\n\u001b[0;32m    487\u001b[0m         method\u001b[38;5;241m=\u001b[39mrequest\u001b[38;5;241m.\u001b[39mmethod,\n\u001b[0;32m    488\u001b[0m         url\u001b[38;5;241m=\u001b[39murl,\n\u001b[0;32m    489\u001b[0m         body\u001b[38;5;241m=\u001b[39mrequest\u001b[38;5;241m.\u001b[39mbody,\n\u001b[0;32m    490\u001b[0m         headers\u001b[38;5;241m=\u001b[39mrequest\u001b[38;5;241m.\u001b[39mheaders,\n\u001b[0;32m    491\u001b[0m         redirect\u001b[38;5;241m=\u001b[39m\u001b[38;5;28;01mFalse\u001b[39;00m,\n\u001b[0;32m    492\u001b[0m         assert_same_host\u001b[38;5;241m=\u001b[39m\u001b[38;5;28;01mFalse\u001b[39;00m,\n\u001b[0;32m    493\u001b[0m         preload_content\u001b[38;5;241m=\u001b[39m\u001b[38;5;28;01mFalse\u001b[39;00m,\n\u001b[0;32m    494\u001b[0m         decode_content\u001b[38;5;241m=\u001b[39m\u001b[38;5;28;01mFalse\u001b[39;00m,\n\u001b[0;32m    495\u001b[0m         retries\u001b[38;5;241m=\u001b[39m\u001b[38;5;28mself\u001b[39m\u001b[38;5;241m.\u001b[39mmax_retries,\n\u001b[0;32m    496\u001b[0m         timeout\u001b[38;5;241m=\u001b[39mtimeout,\n\u001b[0;32m    497\u001b[0m         chunked\u001b[38;5;241m=\u001b[39mchunked,\n\u001b[0;32m    498\u001b[0m     )\n\u001b[0;32m    500\u001b[0m \u001b[38;5;28;01mexcept\u001b[39;00m (ProtocolError, \u001b[38;5;167;01mOSError\u001b[39;00m) \u001b[38;5;28;01mas\u001b[39;00m err:\n",
      "File \u001b[1;32m~\\anaconda3\\Lib\\site-packages\\urllib3\\connectionpool.py:845\u001b[0m, in \u001b[0;36mHTTPConnectionPool.urlopen\u001b[1;34m(self, method, url, body, headers, retries, redirect, assert_same_host, timeout, pool_timeout, release_conn, chunked, body_pos, preload_content, decode_content, **response_kw)\u001b[0m\n\u001b[0;32m    843\u001b[0m     new_e \u001b[38;5;241m=\u001b[39m ProtocolError(\u001b[38;5;124m\"\u001b[39m\u001b[38;5;124mConnection aborted.\u001b[39m\u001b[38;5;124m\"\u001b[39m, new_e)\n\u001b[1;32m--> 845\u001b[0m retries \u001b[38;5;241m=\u001b[39m retries\u001b[38;5;241m.\u001b[39mincrement(\n\u001b[0;32m    846\u001b[0m     method, url, error\u001b[38;5;241m=\u001b[39mnew_e, _pool\u001b[38;5;241m=\u001b[39m\u001b[38;5;28mself\u001b[39m, _stacktrace\u001b[38;5;241m=\u001b[39msys\u001b[38;5;241m.\u001b[39mexc_info()[\u001b[38;5;241m2\u001b[39m]\n\u001b[0;32m    847\u001b[0m )\n\u001b[0;32m    848\u001b[0m retries\u001b[38;5;241m.\u001b[39msleep()\n",
      "File \u001b[1;32m~\\anaconda3\\Lib\\site-packages\\urllib3\\util\\retry.py:515\u001b[0m, in \u001b[0;36mRetry.increment\u001b[1;34m(self, method, url, response, error, _pool, _stacktrace)\u001b[0m\n\u001b[0;32m    514\u001b[0m     reason \u001b[38;5;241m=\u001b[39m error \u001b[38;5;129;01mor\u001b[39;00m ResponseError(cause)\n\u001b[1;32m--> 515\u001b[0m     \u001b[38;5;28;01mraise\u001b[39;00m MaxRetryError(_pool, url, reason) \u001b[38;5;28;01mfrom\u001b[39;00m \u001b[38;5;21;01mreason\u001b[39;00m  \u001b[38;5;66;03m# type: ignore[arg-type]\u001b[39;00m\n\u001b[0;32m    517\u001b[0m log\u001b[38;5;241m.\u001b[39mdebug(\u001b[38;5;124m\"\u001b[39m\u001b[38;5;124mIncremented Retry for (url=\u001b[39m\u001b[38;5;124m'\u001b[39m\u001b[38;5;132;01m%s\u001b[39;00m\u001b[38;5;124m'\u001b[39m\u001b[38;5;124m): \u001b[39m\u001b[38;5;132;01m%r\u001b[39;00m\u001b[38;5;124m\"\u001b[39m, url, new_retry)\n",
      "\u001b[1;31mMaxRetryError\u001b[0m: HTTPSConnectionPool(host='earthengine.googleapis.com', port=443): Max retries exceeded with url: /v1/projects/earthengine-legacy/operations/6Q7NSPDF4EIDTPL7SGWLNJXH?alt=json (Caused by NameResolutionError(\"<urllib3.connection.HTTPSConnection object at 0x00000216FD8FB1D0>: Failed to resolve 'earthengine.googleapis.com' ([Errno 11001] getaddrinfo failed)\"))",
      "\nDuring handling of the above exception, another exception occurred:\n",
      "\u001b[1;31mConnectionError\u001b[0m                           Traceback (most recent call last)",
      "File \u001b[1;32m~\\anaconda3\\Lib\\site-packages\\ee\\_cloud_api_utils.py:70\u001b[0m, in \u001b[0;36m_Http.request\u001b[1;34m(***failed resolving arguments***)\u001b[0m\n\u001b[0;32m     65\u001b[0m \u001b[38;5;28;01mtry\u001b[39;00m:\n\u001b[0;32m     66\u001b[0m   \u001b[38;5;66;03m# googleapiclient is expecting an httplib2 object, and doesn't include\u001b[39;00m\n\u001b[0;32m     67\u001b[0m   \u001b[38;5;66;03m# requests error in the list of transient errors. Therefore, transient\u001b[39;00m\n\u001b[0;32m     68\u001b[0m   \u001b[38;5;66;03m# requests errors should be converted to kinds that googleapiclient\u001b[39;00m\n\u001b[0;32m     69\u001b[0m   \u001b[38;5;66;03m# consider transient.\u001b[39;00m\n\u001b[1;32m---> 70\u001b[0m   response \u001b[38;5;241m=\u001b[39m \u001b[38;5;28mself\u001b[39m\u001b[38;5;241m.\u001b[39m_session\u001b[38;5;241m.\u001b[39mrequest(\n\u001b[0;32m     71\u001b[0m       method, uri, data\u001b[38;5;241m=\u001b[39mbody, headers\u001b[38;5;241m=\u001b[39mheaders, timeout\u001b[38;5;241m=\u001b[39m\u001b[38;5;28mself\u001b[39m\u001b[38;5;241m.\u001b[39m_timeout\n\u001b[0;32m     72\u001b[0m   )\n\u001b[0;32m     73\u001b[0m \u001b[38;5;28;01mexcept\u001b[39;00m requests\u001b[38;5;241m.\u001b[39mexceptions\u001b[38;5;241m.\u001b[39mConnectionError \u001b[38;5;28;01mas\u001b[39;00m connection_error:\n",
      "File \u001b[1;32m~\\anaconda3\\Lib\\site-packages\\requests\\sessions.py:589\u001b[0m, in \u001b[0;36mSession.request\u001b[1;34m(self, method, url, params, data, headers, cookies, files, auth, timeout, allow_redirects, proxies, hooks, stream, verify, cert, json)\u001b[0m\n\u001b[0;32m    588\u001b[0m send_kwargs\u001b[38;5;241m.\u001b[39mupdate(settings)\n\u001b[1;32m--> 589\u001b[0m resp \u001b[38;5;241m=\u001b[39m \u001b[38;5;28mself\u001b[39m\u001b[38;5;241m.\u001b[39msend(prep, \u001b[38;5;241m*\u001b[39m\u001b[38;5;241m*\u001b[39msend_kwargs)\n\u001b[0;32m    591\u001b[0m \u001b[38;5;28;01mreturn\u001b[39;00m resp\n",
      "File \u001b[1;32m~\\anaconda3\\Lib\\site-packages\\requests\\sessions.py:703\u001b[0m, in \u001b[0;36mSession.send\u001b[1;34m(self, request, **kwargs)\u001b[0m\n\u001b[0;32m    702\u001b[0m \u001b[38;5;66;03m# Send the request\u001b[39;00m\n\u001b[1;32m--> 703\u001b[0m r \u001b[38;5;241m=\u001b[39m adapter\u001b[38;5;241m.\u001b[39msend(request, \u001b[38;5;241m*\u001b[39m\u001b[38;5;241m*\u001b[39mkwargs)\n\u001b[0;32m    705\u001b[0m \u001b[38;5;66;03m# Total elapsed time of the request (approximately)\u001b[39;00m\n",
      "File \u001b[1;32m~\\anaconda3\\Lib\\site-packages\\requests\\adapters.py:519\u001b[0m, in \u001b[0;36mHTTPAdapter.send\u001b[1;34m(self, request, stream, timeout, verify, cert, proxies)\u001b[0m\n\u001b[0;32m    517\u001b[0m         \u001b[38;5;28;01mraise\u001b[39;00m SSLError(e, request\u001b[38;5;241m=\u001b[39mrequest)\n\u001b[1;32m--> 519\u001b[0m     \u001b[38;5;28;01mraise\u001b[39;00m \u001b[38;5;167;01mConnectionError\u001b[39;00m(e, request\u001b[38;5;241m=\u001b[39mrequest)\n\u001b[0;32m    521\u001b[0m \u001b[38;5;28;01mexcept\u001b[39;00m ClosedPoolError \u001b[38;5;28;01mas\u001b[39;00m e:\n",
      "\u001b[1;31mConnectionError\u001b[0m: HTTPSConnectionPool(host='earthengine.googleapis.com', port=443): Max retries exceeded with url: /v1/projects/earthengine-legacy/operations/6Q7NSPDF4EIDTPL7SGWLNJXH?alt=json (Caused by NameResolutionError(\"<urllib3.connection.HTTPSConnection object at 0x00000216FD8FB1D0>: Failed to resolve 'earthengine.googleapis.com' ([Errno 11001] getaddrinfo failed)\"))",
      "\nThe above exception was the direct cause of the following exception:\n",
      "\u001b[1;31mConnectionError\u001b[0m                           Traceback (most recent call last)",
      "Cell \u001b[1;32mIn[16], line 3\u001b[0m\n\u001b[0;32m      1\u001b[0m \u001b[38;5;66;03m# Monitor the task\u001b[39;00m\n\u001b[0;32m      2\u001b[0m \u001b[38;5;28;01mimport\u001b[39;00m \u001b[38;5;21;01mtime\u001b[39;00m\n\u001b[1;32m----> 3\u001b[0m \u001b[38;5;28;01mwhile\u001b[39;00m export_task\u001b[38;5;241m.\u001b[39mactive():\n\u001b[0;32m      4\u001b[0m     \u001b[38;5;28mprint\u001b[39m(\u001b[38;5;124m'\u001b[39m\u001b[38;5;124mPolling for task (id: \u001b[39m\u001b[38;5;132;01m{}\u001b[39;00m\u001b[38;5;124m).\u001b[39m\u001b[38;5;124m'\u001b[39m\u001b[38;5;241m.\u001b[39mformat(export_task\u001b[38;5;241m.\u001b[39mid))\n\u001b[0;32m      5\u001b[0m     time\u001b[38;5;241m.\u001b[39msleep(\u001b[38;5;241m30\u001b[39m)\n",
      "File \u001b[1;32m~\\anaconda3\\Lib\\site-packages\\ee\\batch.py:186\u001b[0m, in \u001b[0;36mTask.active\u001b[1;34m(self)\u001b[0m\n\u001b[0;32m    184\u001b[0m \u001b[38;5;28;01mdef\u001b[39;00m \u001b[38;5;21mactive\u001b[39m(\u001b[38;5;28mself\u001b[39m) \u001b[38;5;241m-\u001b[39m\u001b[38;5;241m>\u001b[39m \u001b[38;5;28mbool\u001b[39m:\n\u001b[0;32m    185\u001b[0m \u001b[38;5;250m  \u001b[39m\u001b[38;5;124;03m\"\"\"Returns whether the task is still running.\"\"\"\u001b[39;00m\n\u001b[1;32m--> 186\u001b[0m   \u001b[38;5;28;01mreturn\u001b[39;00m Task\u001b[38;5;241m.\u001b[39mState\u001b[38;5;241m.\u001b[39mactive(\u001b[38;5;28mself\u001b[39m\u001b[38;5;241m.\u001b[39mstatus()[\u001b[38;5;124m'\u001b[39m\u001b[38;5;124mstate\u001b[39m\u001b[38;5;124m'\u001b[39m])\n",
      "File \u001b[1;32m~\\anaconda3\\Lib\\site-packages\\ee\\batch.py:176\u001b[0m, in \u001b[0;36mTask.status\u001b[1;34m(self)\u001b[0m\n\u001b[0;32m    163\u001b[0m \u001b[38;5;250m\u001b[39m\u001b[38;5;124;03m\"\"\"Fetches the current status of the task.\u001b[39;00m\n\u001b[0;32m    164\u001b[0m \n\u001b[0;32m    165\u001b[0m \u001b[38;5;124;03mReturns:\u001b[39;00m\n\u001b[1;32m   (...)\u001b[0m\n\u001b[0;32m    173\u001b[0m \u001b[38;5;124;03m  May also include other fields.\u001b[39;00m\n\u001b[0;32m    174\u001b[0m \u001b[38;5;124;03m\"\"\"\u001b[39;00m\n\u001b[0;32m    175\u001b[0m \u001b[38;5;28;01mif\u001b[39;00m \u001b[38;5;28mself\u001b[39m\u001b[38;5;241m.\u001b[39moperation_name:\n\u001b[1;32m--> 176\u001b[0m   operation \u001b[38;5;241m=\u001b[39m data\u001b[38;5;241m.\u001b[39mgetOperation(\u001b[38;5;28mself\u001b[39m\u001b[38;5;241m.\u001b[39moperation_name)\n\u001b[0;32m    177\u001b[0m   result \u001b[38;5;241m=\u001b[39m _cloud_api_utils\u001b[38;5;241m.\u001b[39mconvert_operation_to_task(operation)\n\u001b[0;32m    178\u001b[0m   \u001b[38;5;28;01mif\u001b[39;00m result[\u001b[38;5;124m'\u001b[39m\u001b[38;5;124mstate\u001b[39m\u001b[38;5;124m'\u001b[39m] \u001b[38;5;241m==\u001b[39m \u001b[38;5;124m'\u001b[39m\u001b[38;5;124mUNKNOWN\u001b[39m\u001b[38;5;124m'\u001b[39m:\n",
      "File \u001b[1;32m~\\anaconda3\\Lib\\site-packages\\ee\\data.py:1705\u001b[0m, in \u001b[0;36mgetOperation\u001b[1;34m(operation_name)\u001b[0m\n\u001b[0;32m   1695\u001b[0m \u001b[38;5;28;01mdef\u001b[39;00m \u001b[38;5;21mgetOperation\u001b[39m(operation_name: \u001b[38;5;28mstr\u001b[39m) \u001b[38;5;241m-\u001b[39m\u001b[38;5;241m>\u001b[39m Any:\n\u001b[0;32m   1696\u001b[0m \u001b[38;5;250m  \u001b[39m\u001b[38;5;124;03m\"\"\"Retrieves the status of a long-running operation.\u001b[39;00m\n\u001b[0;32m   1697\u001b[0m \n\u001b[0;32m   1698\u001b[0m \u001b[38;5;124;03m  Args:\u001b[39;00m\n\u001b[1;32m   (...)\u001b[0m\n\u001b[0;32m   1703\u001b[0m \u001b[38;5;124;03m    An Operation status dictionary for the requested operation.\u001b[39;00m\n\u001b[0;32m   1704\u001b[0m \u001b[38;5;124;03m  \"\"\"\u001b[39;00m\n\u001b[1;32m-> 1705\u001b[0m   \u001b[38;5;28;01mreturn\u001b[39;00m _execute_cloud_call(\n\u001b[0;32m   1706\u001b[0m       _get_cloud_projects()\u001b[38;5;241m.\u001b[39moperations()\u001b[38;5;241m.\u001b[39mget(name\u001b[38;5;241m=\u001b[39moperation_name)\n\u001b[0;32m   1707\u001b[0m   )\n",
      "File \u001b[1;32m~\\anaconda3\\Lib\\site-packages\\ee\\data.py:402\u001b[0m, in \u001b[0;36m_execute_cloud_call\u001b[1;34m(call, num_retries)\u001b[0m\n\u001b[0;32m    388\u001b[0m \u001b[38;5;250m\u001b[39m\u001b[38;5;124;03m\"\"\"Executes a Cloud API call and translates errors to EEExceptions.\u001b[39;00m\n\u001b[0;32m    389\u001b[0m \n\u001b[0;32m    390\u001b[0m \u001b[38;5;124;03mArgs:\u001b[39;00m\n\u001b[1;32m   (...)\u001b[0m\n\u001b[0;32m    399\u001b[0m \u001b[38;5;124;03m  EEException if the call fails.\u001b[39;00m\n\u001b[0;32m    400\u001b[0m \u001b[38;5;124;03m\"\"\"\u001b[39;00m\n\u001b[0;32m    401\u001b[0m \u001b[38;5;28;01mtry\u001b[39;00m:\n\u001b[1;32m--> 402\u001b[0m   \u001b[38;5;28;01mreturn\u001b[39;00m call\u001b[38;5;241m.\u001b[39mexecute(num_retries\u001b[38;5;241m=\u001b[39mnum_retries)\n\u001b[0;32m    403\u001b[0m \u001b[38;5;28;01mexcept\u001b[39;00m googleapiclient\u001b[38;5;241m.\u001b[39merrors\u001b[38;5;241m.\u001b[39mHttpError \u001b[38;5;28;01mas\u001b[39;00m e:\n\u001b[0;32m    404\u001b[0m   \u001b[38;5;28;01mraise\u001b[39;00m _translate_cloud_exception(e)\n",
      "File \u001b[1;32m~\\anaconda3\\Lib\\site-packages\\googleapiclient\\_helpers.py:130\u001b[0m, in \u001b[0;36mpositional.<locals>.positional_decorator.<locals>.positional_wrapper\u001b[1;34m(*args, **kwargs)\u001b[0m\n\u001b[0;32m    128\u001b[0m     \u001b[38;5;28;01melif\u001b[39;00m positional_parameters_enforcement \u001b[38;5;241m==\u001b[39m POSITIONAL_WARNING:\n\u001b[0;32m    129\u001b[0m         logger\u001b[38;5;241m.\u001b[39mwarning(message)\n\u001b[1;32m--> 130\u001b[0m \u001b[38;5;28;01mreturn\u001b[39;00m wrapped(\u001b[38;5;241m*\u001b[39margs, \u001b[38;5;241m*\u001b[39m\u001b[38;5;241m*\u001b[39mkwargs)\n",
      "File \u001b[1;32m~\\anaconda3\\Lib\\site-packages\\googleapiclient\\http.py:923\u001b[0m, in \u001b[0;36mHttpRequest.execute\u001b[1;34m(self, http, num_retries)\u001b[0m\n\u001b[0;32m    920\u001b[0m     \u001b[38;5;28mself\u001b[39m\u001b[38;5;241m.\u001b[39mheaders[\u001b[38;5;124m\"\u001b[39m\u001b[38;5;124mcontent-length\u001b[39m\u001b[38;5;124m\"\u001b[39m] \u001b[38;5;241m=\u001b[39m \u001b[38;5;28mstr\u001b[39m(\u001b[38;5;28mlen\u001b[39m(\u001b[38;5;28mself\u001b[39m\u001b[38;5;241m.\u001b[39mbody))\n\u001b[0;32m    922\u001b[0m \u001b[38;5;66;03m# Handle retries for server-side errors.\u001b[39;00m\n\u001b[1;32m--> 923\u001b[0m resp, content \u001b[38;5;241m=\u001b[39m _retry_request(\n\u001b[0;32m    924\u001b[0m     http,\n\u001b[0;32m    925\u001b[0m     num_retries,\n\u001b[0;32m    926\u001b[0m     \u001b[38;5;124m\"\u001b[39m\u001b[38;5;124mrequest\u001b[39m\u001b[38;5;124m\"\u001b[39m,\n\u001b[0;32m    927\u001b[0m     \u001b[38;5;28mself\u001b[39m\u001b[38;5;241m.\u001b[39m_sleep,\n\u001b[0;32m    928\u001b[0m     \u001b[38;5;28mself\u001b[39m\u001b[38;5;241m.\u001b[39m_rand,\n\u001b[0;32m    929\u001b[0m     \u001b[38;5;28mstr\u001b[39m(\u001b[38;5;28mself\u001b[39m\u001b[38;5;241m.\u001b[39muri),\n\u001b[0;32m    930\u001b[0m     method\u001b[38;5;241m=\u001b[39m\u001b[38;5;28mstr\u001b[39m(\u001b[38;5;28mself\u001b[39m\u001b[38;5;241m.\u001b[39mmethod),\n\u001b[0;32m    931\u001b[0m     body\u001b[38;5;241m=\u001b[39m\u001b[38;5;28mself\u001b[39m\u001b[38;5;241m.\u001b[39mbody,\n\u001b[0;32m    932\u001b[0m     headers\u001b[38;5;241m=\u001b[39m\u001b[38;5;28mself\u001b[39m\u001b[38;5;241m.\u001b[39mheaders,\n\u001b[0;32m    933\u001b[0m )\n\u001b[0;32m    935\u001b[0m \u001b[38;5;28;01mfor\u001b[39;00m callback \u001b[38;5;129;01min\u001b[39;00m \u001b[38;5;28mself\u001b[39m\u001b[38;5;241m.\u001b[39mresponse_callbacks:\n\u001b[0;32m    936\u001b[0m     callback(resp)\n",
      "File \u001b[1;32m~\\anaconda3\\Lib\\site-packages\\googleapiclient\\http.py:222\u001b[0m, in \u001b[0;36m_retry_request\u001b[1;34m(http, num_retries, req_type, sleep, rand, uri, method, *args, **kwargs)\u001b[0m\n\u001b[0;32m    220\u001b[0m \u001b[38;5;28;01mif\u001b[39;00m exception:\n\u001b[0;32m    221\u001b[0m     \u001b[38;5;28;01mif\u001b[39;00m retry_num \u001b[38;5;241m==\u001b[39m num_retries:\n\u001b[1;32m--> 222\u001b[0m         \u001b[38;5;28;01mraise\u001b[39;00m exception\n\u001b[0;32m    223\u001b[0m     \u001b[38;5;28;01melse\u001b[39;00m:\n\u001b[0;32m    224\u001b[0m         \u001b[38;5;28;01mcontinue\u001b[39;00m\n",
      "File \u001b[1;32m~\\anaconda3\\Lib\\site-packages\\googleapiclient\\http.py:191\u001b[0m, in \u001b[0;36m_retry_request\u001b[1;34m(http, num_retries, req_type, sleep, rand, uri, method, *args, **kwargs)\u001b[0m\n\u001b[0;32m    189\u001b[0m \u001b[38;5;28;01mtry\u001b[39;00m:\n\u001b[0;32m    190\u001b[0m     exception \u001b[38;5;241m=\u001b[39m \u001b[38;5;28;01mNone\u001b[39;00m\n\u001b[1;32m--> 191\u001b[0m     resp, content \u001b[38;5;241m=\u001b[39m http\u001b[38;5;241m.\u001b[39mrequest(uri, method, \u001b[38;5;241m*\u001b[39margs, \u001b[38;5;241m*\u001b[39m\u001b[38;5;241m*\u001b[39mkwargs)\n\u001b[0;32m    192\u001b[0m \u001b[38;5;66;03m# Retry on SSL errors and socket timeout errors.\u001b[39;00m\n\u001b[0;32m    193\u001b[0m \u001b[38;5;28;01mexcept\u001b[39;00m _ssl_SSLError \u001b[38;5;28;01mas\u001b[39;00m ssl_error:\n",
      "File \u001b[1;32m~\\anaconda3\\Lib\\site-packages\\google_auth_httplib2.py:218\u001b[0m, in \u001b[0;36mAuthorizedHttp.request\u001b[1;34m(self, uri, method, body, headers, redirections, connection_type, **kwargs)\u001b[0m\n\u001b[0;32m    215\u001b[0m     body_stream_position \u001b[38;5;241m=\u001b[39m body\u001b[38;5;241m.\u001b[39mtell()\n\u001b[0;32m    217\u001b[0m \u001b[38;5;66;03m# Make the request.\u001b[39;00m\n\u001b[1;32m--> 218\u001b[0m response, content \u001b[38;5;241m=\u001b[39m \u001b[38;5;28mself\u001b[39m\u001b[38;5;241m.\u001b[39mhttp\u001b[38;5;241m.\u001b[39mrequest(\n\u001b[0;32m    219\u001b[0m     uri,\n\u001b[0;32m    220\u001b[0m     method,\n\u001b[0;32m    221\u001b[0m     body\u001b[38;5;241m=\u001b[39mbody,\n\u001b[0;32m    222\u001b[0m     headers\u001b[38;5;241m=\u001b[39mrequest_headers,\n\u001b[0;32m    223\u001b[0m     redirections\u001b[38;5;241m=\u001b[39mredirections,\n\u001b[0;32m    224\u001b[0m     connection_type\u001b[38;5;241m=\u001b[39mconnection_type,\n\u001b[0;32m    225\u001b[0m     \u001b[38;5;241m*\u001b[39m\u001b[38;5;241m*\u001b[39mkwargs\n\u001b[0;32m    226\u001b[0m )\n\u001b[0;32m    228\u001b[0m \u001b[38;5;66;03m# If the response indicated that the credentials needed to be\u001b[39;00m\n\u001b[0;32m    229\u001b[0m \u001b[38;5;66;03m# refreshed, then refresh the credentials and re-attempt the\u001b[39;00m\n\u001b[0;32m    230\u001b[0m \u001b[38;5;66;03m# request.\u001b[39;00m\n\u001b[0;32m    231\u001b[0m \u001b[38;5;66;03m# A stored token may expire between the time it is retrieved and\u001b[39;00m\n\u001b[0;32m    232\u001b[0m \u001b[38;5;66;03m# the time the request is made, so we may need to try twice.\u001b[39;00m\n\u001b[0;32m    233\u001b[0m \u001b[38;5;28;01mif\u001b[39;00m (\n\u001b[0;32m    234\u001b[0m     response\u001b[38;5;241m.\u001b[39mstatus \u001b[38;5;129;01min\u001b[39;00m \u001b[38;5;28mself\u001b[39m\u001b[38;5;241m.\u001b[39m_refresh_status_codes\n\u001b[0;32m    235\u001b[0m     \u001b[38;5;129;01mand\u001b[39;00m _credential_refresh_attempt \u001b[38;5;241m<\u001b[39m \u001b[38;5;28mself\u001b[39m\u001b[38;5;241m.\u001b[39m_max_refresh_attempts\n\u001b[0;32m    236\u001b[0m ):\n",
      "File \u001b[1;32m~\\anaconda3\\Lib\\site-packages\\ee\\_cloud_api_utils.py:74\u001b[0m, in \u001b[0;36m_Http.request\u001b[1;34m(***failed resolving arguments***)\u001b[0m\n\u001b[0;32m     70\u001b[0m   response \u001b[38;5;241m=\u001b[39m \u001b[38;5;28mself\u001b[39m\u001b[38;5;241m.\u001b[39m_session\u001b[38;5;241m.\u001b[39mrequest(\n\u001b[0;32m     71\u001b[0m       method, uri, data\u001b[38;5;241m=\u001b[39mbody, headers\u001b[38;5;241m=\u001b[39mheaders, timeout\u001b[38;5;241m=\u001b[39m\u001b[38;5;28mself\u001b[39m\u001b[38;5;241m.\u001b[39m_timeout\n\u001b[0;32m     72\u001b[0m   )\n\u001b[0;32m     73\u001b[0m \u001b[38;5;28;01mexcept\u001b[39;00m requests\u001b[38;5;241m.\u001b[39mexceptions\u001b[38;5;241m.\u001b[39mConnectionError \u001b[38;5;28;01mas\u001b[39;00m connection_error:\n\u001b[1;32m---> 74\u001b[0m   \u001b[38;5;28;01mraise\u001b[39;00m \u001b[38;5;167;01mConnectionError\u001b[39;00m(connection_error) \u001b[38;5;28;01mfrom\u001b[39;00m \u001b[38;5;21;01mconnection_error\u001b[39;00m\n\u001b[0;32m     75\u001b[0m \u001b[38;5;28;01mexcept\u001b[39;00m requests\u001b[38;5;241m.\u001b[39mexceptions\u001b[38;5;241m.\u001b[39mChunkedEncodingError \u001b[38;5;28;01mas\u001b[39;00m encoding_error:\n\u001b[0;32m     76\u001b[0m   \u001b[38;5;66;03m# This is not a one-to-one match, but it's close enough.\u001b[39;00m\n\u001b[0;32m     77\u001b[0m   \u001b[38;5;28;01mraise\u001b[39;00m \u001b[38;5;167;01mConnectionError\u001b[39;00m(encoding_error) \u001b[38;5;28;01mfrom\u001b[39;00m \u001b[38;5;21;01mencoding_error\u001b[39;00m\n",
      "\u001b[1;31mConnectionError\u001b[0m: HTTPSConnectionPool(host='earthengine.googleapis.com', port=443): Max retries exceeded with url: /v1/projects/earthengine-legacy/operations/6Q7NSPDF4EIDTPL7SGWLNJXH?alt=json (Caused by NameResolutionError(\"<urllib3.connection.HTTPSConnection object at 0x00000216FD8FB1D0>: Failed to resolve 'earthengine.googleapis.com' ([Errno 11001] getaddrinfo failed)\"))"
     ]
    }
   ],
   "source": [
    "# Monitor the task\n",
    "import time\n",
    "while export_task.active():\n",
    "    print('Polling for task (id: {}).'.format(export_task.id))\n",
    "    time.sleep(30)\n",
    "\n",
    "print('Export task completed.')"
   ]
  },
  {
   "cell_type": "code",
   "execution_count": null,
   "id": "c60c6b37-fc1b-47de-866d-23c9f0ab9979",
   "metadata": {},
   "outputs": [],
   "source": []
  }
 ],
 "metadata": {
  "kernelspec": {
   "display_name": "Python 3 (ipykernel)",
   "language": "python",
   "name": "python3"
  },
  "language_info": {
   "codemirror_mode": {
    "name": "ipython",
    "version": 3
   },
   "file_extension": ".py",
   "mimetype": "text/x-python",
   "name": "python",
   "nbconvert_exporter": "python",
   "pygments_lexer": "ipython3",
   "version": "3.11.7"
  }
 },
 "nbformat": 4,
 "nbformat_minor": 5
}
